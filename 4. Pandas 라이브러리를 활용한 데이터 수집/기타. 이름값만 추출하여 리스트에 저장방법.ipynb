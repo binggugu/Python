{
 "cells": [
  {
   "cell_type": "code",
   "execution_count": 3,
   "metadata": {},
   "outputs": [
    {
     "data": {
      "text/html": [
       "<div>\n",
       "<style scoped>\n",
       "    .dataframe tbody tr th:only-of-type {\n",
       "        vertical-align: middle;\n",
       "    }\n",
       "\n",
       "    .dataframe tbody tr th {\n",
       "        vertical-align: top;\n",
       "    }\n",
       "\n",
       "    .dataframe thead th {\n",
       "        text-align: right;\n",
       "    }\n",
       "</style>\n",
       "<table border=\"1\" class=\"dataframe\">\n",
       "  <thead>\n",
       "    <tr style=\"text-align: right;\">\n",
       "      <th></th>\n",
       "      <th>NAME</th>\n",
       "    </tr>\n",
       "  </thead>\n",
       "  <tbody>\n",
       "    <tr>\n",
       "      <th>0</th>\n",
       "      <td>김의진</td>\n",
       "    </tr>\n",
       "    <tr>\n",
       "      <th>1</th>\n",
       "      <td>박승진</td>\n",
       "    </tr>\n",
       "    <tr>\n",
       "      <th>2</th>\n",
       "      <td>김의진</td>\n",
       "    </tr>\n",
       "    <tr>\n",
       "      <th>3</th>\n",
       "      <td>정경화</td>\n",
       "    </tr>\n",
       "    <tr>\n",
       "      <th>4</th>\n",
       "      <td>김의진</td>\n",
       "    </tr>\n",
       "  </tbody>\n",
       "</table>\n",
       "</div>"
      ],
      "text/plain": [
       "  NAME\n",
       "0  김의진\n",
       "1  박승진\n",
       "2  김의진\n",
       "3  정경화\n",
       "4  김의진"
      ]
     },
     "execution_count": 3,
     "metadata": {},
     "output_type": "execute_result"
    }
   ],
   "source": [
    "# PANDAS 패키지 불러오기\n",
    "import pandas as pd\n",
    "import sqlalchemy\n",
    "from sqlalchemy import create_engine\n",
    "# CSV 파일을 읽어 Data Frame 변수에 저장하기\n",
    "elecData = pd.read_excel(\"d:/elec_data.xlsx\")\n",
    "\n",
    "# NAME 컬럼만 선택\n",
    "names = elecData['name']\n",
    "\n",
    "# 이름값만 추출하여 리스트에 저장\n",
    "emptyList = []\n",
    "for name in names:\n",
    "    rows = name.strip().replace(\"'\",\"\").replace(\"님\",\"\").split(\",\")\n",
    "    #emptyList.append()\n",
    "    for row in rows:\n",
    "        # 만약 NULL 이면 APPEND 하지 않는다면 NULL 값 자동 제거됨\n",
    "        emptyList.append(row.strip())\n",
    "\n",
    "## 리스트 -> 데이터프레임 변환\n",
    "refinedData = pd.DataFrame(emptyList, columns=[\"NAME\"])\n",
    "\n",
    "## NULL 처리\n",
    "finalResult = refinedData[refinedData['NAME'] != \"\"]\n",
    "\n",
    "finalResult.head()"
   ]
  },
  {
   "cell_type": "code",
   "execution_count": null,
   "metadata": {},
   "outputs": [],
   "source": []
  }
 ],
 "metadata": {
  "kernelspec": {
   "display_name": "Python 3",
   "language": "python",
   "name": "python3"
  },
  "language_info": {
   "codemirror_mode": {
    "name": "ipython",
    "version": 3
   },
   "file_extension": ".py",
   "mimetype": "text/x-python",
   "name": "python",
   "nbconvert_exporter": "python",
   "pygments_lexer": "ipython3",
   "version": "3.6.4"
  }
 },
 "nbformat": 4,
 "nbformat_minor": 2
}

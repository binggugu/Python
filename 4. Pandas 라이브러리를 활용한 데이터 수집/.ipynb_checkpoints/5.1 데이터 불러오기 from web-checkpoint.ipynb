{
 "cells": [
  {
   "cell_type": "code",
   "execution_count": 1,
   "metadata": {},
   "outputs": [
    {
     "name": "stdout",
     "output_type": "stream",
     "text": [
      "기상청 육상 중기예보\n",
      "이번 예보기간에는 고기압의 영향으로 대체로 맑은 날이 많겠습니다.  <br />기온은 평년(최저기온: 15~20도, 최고기온: 22~29도)과 전반에는 비슷하겠고, 후반에는 조금 높겠습니다.<br />강수량은 평년(3~19mm)보다 적겠습니다.\n"
     ]
    }
   ],
   "source": [
    "#pip install beautifulsoup4\n",
    "\n",
    "import requests, bs4, pandas as pd\n",
    "#웹페이지 html 소스 가져오기\n",
    "resp = requests.get('http://www.kma.go.kr/weather/forecast/mid-term-rss3.jsp')\n",
    "resp.encoding='utf-8'\n",
    "html = resp.text\n",
    "\n",
    "bs = bs4.BeautifulSoup(html, 'html.parser')\n",
    "\n",
    "# html 구조 태그로 가져오기\n",
    "title = bs.find(\"title\").text\n",
    "wf = bs.find(\"wf\").text\n",
    "print(title)\n",
    "print(wf)\n"
   ]
  },
  {
   "cell_type": "markdown",
   "metadata": {},
   "source": [
    "### 1. 태그 찾기 - find"
   ]
  },
  {
   "cell_type": "code",
   "execution_count": null,
   "metadata": {},
   "outputs": [],
   "source": [
    "# bs = bs4.BeautifulSoup(html, “html.parser”) //\n",
    "# div에서 클래스가 class_db_quiz인것만 추출 //\n",
    "# divs = bs.find or findAll(“태그명”) //\n",
    "# print(divs) //\n",
    "# - 태그값을 가져온다"
   ]
  },
  {
   "cell_type": "code",
   "execution_count": 8,
   "metadata": {},
   "outputs": [],
   "source": [
    "import requests, bs4, pandas as pd, numpy as np\n",
    " \n",
    "#웹페이지 html 소스 가져오기\n",
    "resp = requests.get('http://13.209.33.89:3333/quiz')\n",
    "resp.encoding='utf-8'"
   ]
  },
  {
   "cell_type": "code",
   "execution_count": 9,
   "metadata": {
    "scrolled": true
   },
   "outputs": [
    {
     "data": {
      "text/plain": [
       "<!-- ncluding header content which is common for all pages\n",
       "-->\n",
       "<html>\n",
       "<head>\n",
       "<title></title>\n",
       "<link href=\"/css/styleFile.css\" rel=\"stylesheet\"/>\n",
       "</head>\n",
       "<body>\n",
       "<ul>\n",
       "<li><a class=\"active\" href=\"/\">Home</a></li>\n",
       "<li><a href=\"/quiz\"> Quiz </a></li>\n",
       "<li><a href=\"/maps/add\">좌표 등록</a></li>\n",
       "<li><a href=\"/maps\">등록좌표 목록</a></li>\n",
       "<li><a href=\"/maps/geomap\">지도 화면</a></li>\n",
       "<li><a href=\"/maps/chart\">파이차트 화면</a></li>\n",
       "<li><a href=\"/maps/chartLine\">라인차트 화면</a></li>\n",
       "<li><a href=\"/maps/gitList\">git저장소 목록</a></li>\n",
       "<li><a href=\"/test\">test</a></li>\n",
       "</ul>\n",
       "<!--         <div>\n",
       "            <a href=\"/\">Home</a> | \n",
       "            <a href=\"/quiz\"> Quiz </a> | \n",
       "            <a href=\"/maps/add\">Add New Location</a> | \n",
       "            <a href=\"/maps\">All Location List</a>  |\n",
       "            <a href=\"/maps/geomap\">Geolocation Map</a>  |\n",
       "            <a href=\"/maps/chart\">Chart</a> \n",
       "        </div>  -->\n",
       "<h1></h1>\n",
       "<div class=\"class_py_quiz\" id=\"id_py_quiz\">\n",
       "<h1>Python 퀴즈 </h1>\n",
       "<a href=\"https://docs.google.com/forms/d/e/1FAIpQLScoGQuidGNCFerQZ6Dw5t6PndPPT62EvrncPLL3xLUfulRTyA/viewform?usp=sf_link\"> 6/14 파이썬 데이터 불러오기/저장하기 </a>\n",
       "<p></p>\n",
       "<a href=\"https://docs.google.com/forms/d/e/1FAIpQLSftZ-2VYfHB46FrwFG2HjbRDBtLSO0XP2BmiHh3iqwGoi3pQQ/viewform?usp=sf_link\"> 6/8 postgres 과제 </a>\n",
       "<p></p>\n",
       "<a href=\"https://docs.google.com/forms/d/e/1FAIpQLSeZBKjrZD1nAf4aAYhz_WEAqbzwPUPihgMEfXy74e0IMRwXKw/viewform?usp=sf_link\"> 6/8 파이썬 제어문 </a>\n",
       "<p></p>\n",
       "<a href=\"https://docs.google.com/forms/d/e/1FAIpQLSdvFbZGNm7rSGQO_daDSWHC8o1BNgZtIBajLaiOcvgV2iV0IA/viewform?usp=sf_link\"> 6/7 파이썬 자료형 </a>\n",
       "<p></p>\n",
       "<a href=\"https://docs.google.com/forms/d/e/1FAIpQLSehRuBYKpXNULxkamM8zVOd_mkFwZYwKtAp8Px0Kl0oCJbIeA/viewform?usp=sf_link\"> 5/31 파이썬 머신러닝 </a>\n",
       "<p></p>\n",
       "<a href=\"https://docs.google.com/forms/d/e/1FAIpQLSeVt843wk9MBxLj0N84q_8Vg4yL1jTrOygA5Cm3z-asPDY1sg/viewform?usp=sf_link\"> 5/24 파이썬 시작하기 </a>\n",
       "<p></p>\n",
       "</div>\n",
       "<div class=\"class_sp_quiz\" id=\"id_sp_quiz\">\n",
       "<h1>Spark 퀴즈 </h1>\n",
       "<a href=\"https://docs.google.com/forms/d/e/1FAIpQLScsDv_0mTFuJMqGfvrdjFAxVdeGOBpo8wOQSm5OiW1XcdBDFg/viewform?usp=sf_link\"> 5/3 Spark 심화과정-groupby</a>\n",
       "<p></p>\n",
       "<a href=\"https://docs.google.com/forms/d/e/1FAIpQLSdNCn-NrLuFse4w2C36vqRPGUXtXDDsfLLxm-Sv9E7PwRwbrQ/viewform?usp=sf_link\"> 4/27 Spark 심화과정 </a>\n",
       "<p></p>\n",
       "<a href=\"https://docs.google.com/forms/d/e/1FAIpQLSdfsGBmTFPfhZfFsKAOBOWx_x6f3mouhggIaYXbjW4EHbnBdA/viewform?usp=sf_link\"> 4/12 Spark 기본과정 </a>\n",
       "<p></p>\n",
       "</div>\n",
       "<div class=\"class_db_quiz\" id=\"id_db_quiz\">\n",
       "<h1>데이터베이스 퀴즈 </h1>\n",
       "<a href=\"https://docs.google.com/forms/d/e/1FAIpQLSff5TjqUq9u-jRxYZvTdB7k-N0AEjx0_WSIcLZCBfFiEfoRUA/viewform?usp=sf_link\"> 6/12 오라클 Join 퀴즈 </a>\n",
       "<p></p>\n",
       "<a href=\"https://docs.google.com/forms/d/e/1FAIpQLScP3ojzBNFbKbTFq4r58GqqZODYom1d6jrn09rmdqT57uByVA/viewform?usp=sf_link\"> 6/5 오라클 GroupBy 퀴즈 </a>\n",
       "<p></p>\n",
       "<a href=\"https://docs.google.com/forms/d/e/1FAIpQLSfU5Pv_GQOLV-SkrDirOGt4GLDP3sZpy-UPY4zsud2ODPknbA/viewform?usp=sf_link\"> 5/29 오라클 숫자/날짜 및 고급함수 </a>\n",
       "<p></p>\n",
       "<a href=\"https://docs.google.com/forms/d/e/1FAIpQLSdFuYrwaYE6HEzQft21Icj_2yPyQqkcSabuvnaWwO47v99XmA/viewform?usp=sf_link\"> 5/15 오라클 데이터 조회(함수활용)  </a>\n",
       "<p></p>\n",
       "<a href=\"https://docs.google.com/forms/d/e/1FAIpQLSd8MAsXIKIteOM4OFCggUoYeOqC5aGI-2aQFLV8533HkbTz-w/viewform?usp=sf_link\"> 5/8 오라클 원격접속 및 조회 </a>\n",
       "<p></p>\n",
       "<a href=\"https://docs.google.com/forms/d/e/1FAIpQLSeYl0KM70XWhjnTIVLfqX5H5tp2V3jx2bwJMyZrTSeak2HZWw/viewform?usp=sf_link\"> 4/10 무결성 제약조건 </a>\n",
       "</div>\n",
       "<!--\n",
       "including footer content which is common for all pages\n",
       "-->\n",
       "</body>\n",
       "</html>"
      ]
     },
     "execution_count": 9,
     "metadata": {},
     "output_type": "execute_result"
    }
   ],
   "source": [
    "html = resp.text\n",
    "bs = bs4.BeautifulSoup(html, 'html.parser')\n",
    "bs"
   ]
  },
  {
   "cell_type": "code",
   "execution_count": 13,
   "metadata": {
    "scrolled": true
   },
   "outputs": [
    {
     "name": "stdout",
     "output_type": "stream",
     "text": [
      "<div class=\"class_py_quiz\" id=\"id_py_quiz\">\n",
      "<h1>Python 퀴즈 </h1>\n",
      "<a href=\"https://docs.google.com/forms/d/e/1FAIpQLScoGQuidGNCFerQZ6Dw5t6PndPPT62EvrncPLL3xLUfulRTyA/viewform?usp=sf_link\"> 6/14 파이썬 데이터 불러오기/저장하기 </a>\n",
      "<p></p>\n",
      "<a href=\"https://docs.google.com/forms/d/e/1FAIpQLSftZ-2VYfHB46FrwFG2HjbRDBtLSO0XP2BmiHh3iqwGoi3pQQ/viewform?usp=sf_link\"> 6/8 postgres 과제 </a>\n",
      "<p></p>\n",
      "<a href=\"https://docs.google.com/forms/d/e/1FAIpQLSeZBKjrZD1nAf4aAYhz_WEAqbzwPUPihgMEfXy74e0IMRwXKw/viewform?usp=sf_link\"> 6/8 파이썬 제어문 </a>\n",
      "<p></p>\n",
      "<a href=\"https://docs.google.com/forms/d/e/1FAIpQLSdvFbZGNm7rSGQO_daDSWHC8o1BNgZtIBajLaiOcvgV2iV0IA/viewform?usp=sf_link\"> 6/7 파이썬 자료형 </a>\n",
      "<p></p>\n",
      "<a href=\"https://docs.google.com/forms/d/e/1FAIpQLSehRuBYKpXNULxkamM8zVOd_mkFwZYwKtAp8Px0Kl0oCJbIeA/viewform?usp=sf_link\"> 5/31 파이썬 머신러닝 </a>\n",
      "<p></p>\n",
      "<a href=\"https://docs.google.com/forms/d/e/1FAIpQLSeVt843wk9MBxLj0N84q_8Vg4yL1jTrOygA5Cm3z-asPDY1sg/viewform?usp=sf_link\"> 5/24 파이썬 시작하기 </a>\n",
      "<p></p>\n",
      "</div>\n"
     ]
    }
   ],
   "source": [
    "# html 부분구조 가져오기\n",
    "find_tag = bs.find(\"div\") # 전체를 갖고오고 싶을때는 findAll 을 쓴다.\n",
    "print(find_tag)"
   ]
  },
  {
   "cell_type": "code",
   "execution_count": null,
   "metadata": {},
   "outputs": [],
   "source": [
    "resp."
   ]
  },
  {
   "cell_type": "markdown",
   "metadata": {},
   "source": [
    "### 2. 속성 찾기"
   ]
  },
  {
   "cell_type": "code",
   "execution_count": null,
   "metadata": {},
   "outputs": [],
   "source": [
    "# bs = bs4.BeautifulSoup(html, “html.parser”) //\n",
    "# findAll : 모두찾기 find : 한개만 //\n",
    "# findAttr = bs.findAll or find(“태그명”, {“속성명”:”속성이름“})"
   ]
  },
  {
   "cell_type": "code",
   "execution_count": 15,
   "metadata": {},
   "outputs": [
    {
     "name": "stdout",
     "output_type": "stream",
     "text": [
      "<div class=\"class_db_quiz\" id=\"id_db_quiz\">\n",
      "<h1>데이터베이스 퀴즈 </h1>\n",
      "<a href=\"https://docs.google.com/forms/d/e/1FAIpQLSff5TjqUq9u-jRxYZvTdB7k-N0AEjx0_WSIcLZCBfFiEfoRUA/viewform?usp=sf_link\"> 6/12 오라클 Join 퀴즈 </a>\n",
      "<p></p>\n",
      "<a href=\"https://docs.google.com/forms/d/e/1FAIpQLScP3ojzBNFbKbTFq4r58GqqZODYom1d6jrn09rmdqT57uByVA/viewform?usp=sf_link\"> 6/5 오라클 GroupBy 퀴즈 </a>\n",
      "<p></p>\n",
      "<a href=\"https://docs.google.com/forms/d/e/1FAIpQLSfU5Pv_GQOLV-SkrDirOGt4GLDP3sZpy-UPY4zsud2ODPknbA/viewform?usp=sf_link\"> 5/29 오라클 숫자/날짜 및 고급함수 </a>\n",
      "<p></p>\n",
      "<a href=\"https://docs.google.com/forms/d/e/1FAIpQLSdFuYrwaYE6HEzQft21Icj_2yPyQqkcSabuvnaWwO47v99XmA/viewform?usp=sf_link\"> 5/15 오라클 데이터 조회(함수활용)  </a>\n",
      "<p></p>\n",
      "<a href=\"https://docs.google.com/forms/d/e/1FAIpQLSd8MAsXIKIteOM4OFCggUoYeOqC5aGI-2aQFLV8533HkbTz-w/viewform?usp=sf_link\"> 5/8 오라클 원격접속 및 조회 </a>\n",
      "<p></p>\n",
      "<a href=\"https://docs.google.com/forms/d/e/1FAIpQLSeYl0KM70XWhjnTIVLfqX5H5tp2V3jx2bwJMyZrTSeak2HZWw/viewform?usp=sf_link\"> 4/10 무결성 제약조건 </a>\n",
      "</div>\n"
     ]
    }
   ],
   "source": [
    "import requests, bs4, pandas as pd, numpy as np\n",
    " \n",
    "#웹페이지 html 소스 가져오기\n",
    "resp = requests.get('http://13.209.33.89:3333/quiz')\n",
    "resp.encoding='utf-8'\n",
    "html = resp.text\n",
    "\n",
    "bs = bs4.BeautifulSoup(html, 'html.parser')\n",
    "\n",
    "# html 태그 속성으로 찾기\n",
    "find_attr = bs.find(\"div\",{\"id\":\"id_db_quiz\"})\n",
    "print(find_attr)\n"
   ]
  },
  {
   "cell_type": "code",
   "execution_count": 16,
   "metadata": {},
   "outputs": [
    {
     "name": "stdout",
     "output_type": "stream",
     "text": [
      "<div class=\"class_db_quiz\" id=\"id_db_quiz\">\n",
      "<h1>데이터베이스 퀴즈 </h1>\n",
      "<a href=\"https://docs.google.com/forms/d/e/1FAIpQLSff5TjqUq9u-jRxYZvTdB7k-N0AEjx0_WSIcLZCBfFiEfoRUA/viewform?usp=sf_link\"> 6/12 오라클 Join 퀴즈 </a>\n",
      "<p></p>\n",
      "<a href=\"https://docs.google.com/forms/d/e/1FAIpQLScP3ojzBNFbKbTFq4r58GqqZODYom1d6jrn09rmdqT57uByVA/viewform?usp=sf_link\"> 6/5 오라클 GroupBy 퀴즈 </a>\n",
      "<p></p>\n",
      "<a href=\"https://docs.google.com/forms/d/e/1FAIpQLSfU5Pv_GQOLV-SkrDirOGt4GLDP3sZpy-UPY4zsud2ODPknbA/viewform?usp=sf_link\"> 5/29 오라클 숫자/날짜 및 고급함수 </a>\n",
      "<p></p>\n",
      "<a href=\"https://docs.google.com/forms/d/e/1FAIpQLSdFuYrwaYE6HEzQft21Icj_2yPyQqkcSabuvnaWwO47v99XmA/viewform?usp=sf_link\"> 5/15 오라클 데이터 조회(함수활용)  </a>\n",
      "<p></p>\n",
      "<a href=\"https://docs.google.com/forms/d/e/1FAIpQLSd8MAsXIKIteOM4OFCggUoYeOqC5aGI-2aQFLV8533HkbTz-w/viewform?usp=sf_link\"> 5/8 오라클 원격접속 및 조회 </a>\n",
      "<p></p>\n",
      "<a href=\"https://docs.google.com/forms/d/e/1FAIpQLSeYl0KM70XWhjnTIVLfqX5H5tp2V3jx2bwJMyZrTSeak2HZWw/viewform?usp=sf_link\"> 4/10 무결성 제약조건 </a>\n",
      "</div>\n"
     ]
    }
   ],
   "source": [
    "import requests, bs4, pandas as pd, numpy as np\n",
    " \n",
    "#웹페이지 html 소스 가져오기\n",
    "resp = requests.get('http://13.209.33.89:3333/quiz')\n",
    "resp.encoding='utf-8'\n",
    "html = resp.text\n",
    "\n",
    "bs = bs4.BeautifulSoup(html, 'html.parser')\n",
    "\n",
    "# html 태그 속성으로 찾기\n",
    "find_attr = bs.find(\"div\",{\"class\":\"class_db_quiz\"})\n",
    "print(find_attr)"
   ]
  },
  {
   "cell_type": "markdown",
   "metadata": {},
   "source": [
    "### 3. 태그 내 DOM 부분구조"
   ]
  },
  {
   "cell_type": "code",
   "execution_count": null,
   "metadata": {},
   "outputs": [],
   "source": [
    "# bs = bs4.BeautifulSoup(html, “html.parser”) //\n",
    "# findAll : 모두찾기 find : 한개만 //\n",
    "# findAttr = bs.findAll or find(“태그명”, {“속성명”:”속성이름“}) //\n",
    "# find_part = find_attr.find(“a”)"
   ]
  },
  {
   "cell_type": "code",
   "execution_count": 17,
   "metadata": {},
   "outputs": [
    {
     "name": "stdout",
     "output_type": "stream",
     "text": [
      "<a href=\"https://docs.google.com/forms/d/e/1FAIpQLSff5TjqUq9u-jRxYZvTdB7k-N0AEjx0_WSIcLZCBfFiEfoRUA/viewform?usp=sf_link\"> 6/12 오라클 Join 퀴즈 </a>\n"
     ]
    }
   ],
   "source": [
    "import requests, bs4, pandas as pd, numpy as np\n",
    " \n",
    "#웹페이지 html 소스 가져오기\n",
    "resp = requests.get('http://13.209.33.89:3333/quiz')\n",
    "resp.encoding='utf-8'\n",
    "html = resp.text\n",
    "\n",
    "bs = bs4.BeautifulSoup(html, 'html.parser')\n",
    "\n",
    "# html 부분구조 가져오기\n",
    "find_attr = bs.find(\"div\",{\"id\":\"id_db_quiz\"})\n",
    "find_part = find_attr.find(\"a\") # findAll 전부다 가져온다.\n",
    "print(find_part)"
   ]
  },
  {
   "cell_type": "markdown",
   "metadata": {},
   "source": [
    "### 4. DOM 구조 내 속성 찾기"
   ]
  },
  {
   "cell_type": "code",
   "execution_count": null,
   "metadata": {},
   "outputs": [],
   "source": [
    "# bs = bs4.BeautifulSoup(html, “html.parser”) //\n",
    "# findAll : 모두찾기 find : 한개만 //\n",
    "# findAttr = bs.findAll or find(“태그명”, {“속성명”:”속성이름“}) //\n",
    "# print(find_part.find(\"a\").attrs['href'])"
   ]
  },
  {
   "cell_type": "code",
   "execution_count": 29,
   "metadata": {},
   "outputs": [
    {
     "name": "stdout",
     "output_type": "stream",
     "text": [
      "https://docs.google.com/forms/d/e/1FAIpQLSff5TjqUq9u-jRxYZvTdB7k-N0AEjx0_WSIcLZCBfFiEfoRUA/viewform?usp=sf_link\n"
     ]
    }
   ],
   "source": [
    "import requests, bs4, pandas as pd, numpy as np\n",
    " \n",
    "#웹페이지 html 소스 가져오기\n",
    "resp = requests.get('http://13.209.33.89:3333/quiz')\n",
    "resp.encoding='utf-8'\n",
    "html = resp.text\n",
    "bs = bs4.BeautifulSoup(html, 'html.parser')\n",
    "\n",
    "# html 부분구조 가져오기\n",
    "find_part = bs.find(\"div\",{\"id\":\"id_db_quiz\"})\n",
    "\n",
    "# 링크내 속성 가져오기\n",
    "link = find_part.find(\"a\")\n",
    "print(find_part.find(\"a\").attrs['href'])"
   ]
  },
  {
   "cell_type": "markdown",
   "metadata": {},
   "source": [
    "### 퀴즈내 링크만 전부 FOR LOOP를 활용하여 추출하세요!"
   ]
  },
  {
   "cell_type": "code",
   "execution_count": null,
   "metadata": {},
   "outputs": [],
   "source": [
    "# html 부분구조 가져오기 //\n",
    "# a_links = bs.findAll(\"a\")\n",
    "\n",
    "# 실습 a_links의 객체를 in으로 하나씩\n",
    "# for루프를 활용하여"
   ]
  },
  {
   "cell_type": "code",
   "execution_count": 9,
   "metadata": {},
   "outputs": [
    {
     "name": "stdout",
     "output_type": "stream",
     "text": [
      " 6/15 파이썬 스크랩 BS4 > https://docs.google.com/forms/d/e/1FAIpQLSev5NqrIRccYJ1kWq1dPBDXvX4MJ7ugr-GVi5A_bgEig1dsHA/viewform?usp=sf_link\n",
      " 6/14 파이썬 데이터 불러오기/저장하기  > https://docs.google.com/forms/d/e/1FAIpQLScoGQuidGNCFerQZ6Dw5t6PndPPT62EvrncPLL3xLUfulRTyA/viewform?usp=sf_link\n",
      " 6/8 postgres 과제  > https://docs.google.com/forms/d/e/1FAIpQLSftZ-2VYfHB46FrwFG2HjbRDBtLSO0XP2BmiHh3iqwGoi3pQQ/viewform?usp=sf_link\n",
      " 6/8 파이썬 제어문  > https://docs.google.com/forms/d/e/1FAIpQLSeZBKjrZD1nAf4aAYhz_WEAqbzwPUPihgMEfXy74e0IMRwXKw/viewform?usp=sf_link\n",
      " 6/7 파이썬 자료형  > https://docs.google.com/forms/d/e/1FAIpQLSdvFbZGNm7rSGQO_daDSWHC8o1BNgZtIBajLaiOcvgV2iV0IA/viewform?usp=sf_link\n",
      " 5/31 파이썬 머신러닝  > https://docs.google.com/forms/d/e/1FAIpQLSehRuBYKpXNULxkamM8zVOd_mkFwZYwKtAp8Px0Kl0oCJbIeA/viewform?usp=sf_link\n",
      " 5/24 파이썬 시작하기  > https://docs.google.com/forms/d/e/1FAIpQLSeVt843wk9MBxLj0N84q_8Vg4yL1jTrOygA5Cm3z-asPDY1sg/viewform?usp=sf_link\n",
      " 5/3 Spark 심화과정-groupby > https://docs.google.com/forms/d/e/1FAIpQLScsDv_0mTFuJMqGfvrdjFAxVdeGOBpo8wOQSm5OiW1XcdBDFg/viewform?usp=sf_link\n",
      " 4/27 Spark 심화과정  > https://docs.google.com/forms/d/e/1FAIpQLSdNCn-NrLuFse4w2C36vqRPGUXtXDDsfLLxm-Sv9E7PwRwbrQ/viewform?usp=sf_link\n",
      " 4/12 Spark 기본과정  > https://docs.google.com/forms/d/e/1FAIpQLSdfsGBmTFPfhZfFsKAOBOWx_x6f3mouhggIaYXbjW4EHbnBdA/viewform?usp=sf_link\n",
      " 6/12 오라클 Join 퀴즈  > https://docs.google.com/forms/d/e/1FAIpQLSff5TjqUq9u-jRxYZvTdB7k-N0AEjx0_WSIcLZCBfFiEfoRUA/viewform?usp=sf_link\n",
      " 6/5 오라클 GroupBy 퀴즈  > https://docs.google.com/forms/d/e/1FAIpQLScP3ojzBNFbKbTFq4r58GqqZODYom1d6jrn09rmdqT57uByVA/viewform?usp=sf_link\n",
      " 5/29 오라클 숫자/날짜 및 고급함수  > https://docs.google.com/forms/d/e/1FAIpQLSfU5Pv_GQOLV-SkrDirOGt4GLDP3sZpy-UPY4zsud2ODPknbA/viewform?usp=sf_link\n",
      " 5/15 오라클 데이터 조회(함수활용)   > https://docs.google.com/forms/d/e/1FAIpQLSdFuYrwaYE6HEzQft21Icj_2yPyQqkcSabuvnaWwO47v99XmA/viewform?usp=sf_link\n",
      " 5/8 오라클 원격접속 및 조회  > https://docs.google.com/forms/d/e/1FAIpQLSd8MAsXIKIteOM4OFCggUoYeOqC5aGI-2aQFLV8533HkbTz-w/viewform?usp=sf_link\n",
      " 4/10 무결성 제약조건  > https://docs.google.com/forms/d/e/1FAIpQLSeYl0KM70XWhjnTIVLfqX5H5tp2V3jx2bwJMyZrTSeak2HZWw/viewform?usp=sf_link\n"
     ]
    }
   ],
   "source": [
    "# text도 같이 넣어서 더 깔끔하게 만드는 방법\n",
    "\n",
    "import requests, bs4, pandas as pd, numpy as np\n",
    "\n",
    "#웹페이지 html 소스 가져오기\n",
    "resp = requests.get(\"http://13.209.33.89:3333/quiz/\")\n",
    "resp.encoding='utf-8'\n",
    "html = resp.text\n",
    "\n",
    "bs = bs4.BeautifulSoup(html, 'html.parser')\n",
    "\n",
    "# html 부분구조 가져오기\n",
    "a_links = bs.findAll(\"a\")\n",
    "for a in a_links:\n",
    "    # a 링크 내 href 속성\n",
    "    href = a.attrs[\"href\"]\n",
    "    # a 링크 테스트\n",
    "    text = a.text\n",
    "    if(href.startswith(\"/\")):\n",
    "        continue;\n",
    "    print(text, \">\",href)"
   ]
  },
  {
   "cell_type": "code",
   "execution_count": 7,
   "metadata": {},
   "outputs": [
    {
     "name": "stdout",
     "output_type": "stream",
     "text": [
      "/\n",
      "/quiz\n",
      "/maps/add\n",
      "/maps\n",
      "/maps/geomap\n",
      "/maps/chart\n",
      "/maps/chartLine\n",
      "/maps/gitList\n",
      "/test\n",
      "https://docs.google.com/forms/d/e/1FAIpQLSev5NqrIRccYJ1kWq1dPBDXvX4MJ7ugr-GVi5A_bgEig1dsHA/viewform?usp=sf_link\n",
      "https://docs.google.com/forms/d/e/1FAIpQLScoGQuidGNCFerQZ6Dw5t6PndPPT62EvrncPLL3xLUfulRTyA/viewform?usp=sf_link\n",
      "https://docs.google.com/forms/d/e/1FAIpQLSftZ-2VYfHB46FrwFG2HjbRDBtLSO0XP2BmiHh3iqwGoi3pQQ/viewform?usp=sf_link\n",
      "https://docs.google.com/forms/d/e/1FAIpQLSeZBKjrZD1nAf4aAYhz_WEAqbzwPUPihgMEfXy74e0IMRwXKw/viewform?usp=sf_link\n",
      "https://docs.google.com/forms/d/e/1FAIpQLSdvFbZGNm7rSGQO_daDSWHC8o1BNgZtIBajLaiOcvgV2iV0IA/viewform?usp=sf_link\n",
      "https://docs.google.com/forms/d/e/1FAIpQLSehRuBYKpXNULxkamM8zVOd_mkFwZYwKtAp8Px0Kl0oCJbIeA/viewform?usp=sf_link\n",
      "https://docs.google.com/forms/d/e/1FAIpQLSeVt843wk9MBxLj0N84q_8Vg4yL1jTrOygA5Cm3z-asPDY1sg/viewform?usp=sf_link\n",
      "https://docs.google.com/forms/d/e/1FAIpQLScsDv_0mTFuJMqGfvrdjFAxVdeGOBpo8wOQSm5OiW1XcdBDFg/viewform?usp=sf_link\n",
      "https://docs.google.com/forms/d/e/1FAIpQLSdNCn-NrLuFse4w2C36vqRPGUXtXDDsfLLxm-Sv9E7PwRwbrQ/viewform?usp=sf_link\n",
      "https://docs.google.com/forms/d/e/1FAIpQLSdfsGBmTFPfhZfFsKAOBOWx_x6f3mouhggIaYXbjW4EHbnBdA/viewform?usp=sf_link\n",
      "https://docs.google.com/forms/d/e/1FAIpQLSff5TjqUq9u-jRxYZvTdB7k-N0AEjx0_WSIcLZCBfFiEfoRUA/viewform?usp=sf_link\n",
      "https://docs.google.com/forms/d/e/1FAIpQLScP3ojzBNFbKbTFq4r58GqqZODYom1d6jrn09rmdqT57uByVA/viewform?usp=sf_link\n",
      "https://docs.google.com/forms/d/e/1FAIpQLSfU5Pv_GQOLV-SkrDirOGt4GLDP3sZpy-UPY4zsud2ODPknbA/viewform?usp=sf_link\n",
      "https://docs.google.com/forms/d/e/1FAIpQLSdFuYrwaYE6HEzQft21Icj_2yPyQqkcSabuvnaWwO47v99XmA/viewform?usp=sf_link\n",
      "https://docs.google.com/forms/d/e/1FAIpQLSd8MAsXIKIteOM4OFCggUoYeOqC5aGI-2aQFLV8533HkbTz-w/viewform?usp=sf_link\n",
      "https://docs.google.com/forms/d/e/1FAIpQLSeYl0KM70XWhjnTIVLfqX5H5tp2V3jx2bwJMyZrTSeak2HZWw/viewform?usp=sf_link\n"
     ]
    }
   ],
   "source": [
    "import requests, bs4, pandas as pd, numpy as np\n",
    " \n",
    "#웹페이지 html 소스 가져오기\n",
    "resp = requests.get('http://13.209.33.89:3333/quiz')\n",
    "resp.encoding='utf-8'\n",
    "html = resp.text\n",
    "bs = bs4.BeautifulSoup(html, 'html.parser')\n",
    "# html 부분구조 가져오기\n",
    "#일단 a tag 모두 가져와서 href 속성을 가져오면 되는것!\n",
    "a_links = bs.findAll(\"a\")\n",
    "\n",
    "for a in a_links:\n",
    "    href = a.attrs[\"href\"]\n",
    "    print(href)"
   ]
  },
  {
   "cell_type": "markdown",
   "metadata": {},
   "source": [
    "### 5. select 편"
   ]
  },
  {
   "cell_type": "code",
   "execution_count": 26,
   "metadata": {},
   "outputs": [
    {
     "name": "stdout",
     "output_type": "stream",
     "text": [
      "usd/krw=  1,083.10\n"
     ]
    },
    {
     "data": {
      "text/html": [
       "<div>\n",
       "<style scoped>\n",
       "    .dataframe tbody tr th:only-of-type {\n",
       "        vertical-align: middle;\n",
       "    }\n",
       "\n",
       "    .dataframe tbody tr th {\n",
       "        vertical-align: top;\n",
       "    }\n",
       "\n",
       "    .dataframe thead th {\n",
       "        text-align: right;\n",
       "    }\n",
       "</style>\n",
       "<table border=\"1\" class=\"dataframe\">\n",
       "  <thead>\n",
       "    <tr style=\"text-align: right;\">\n",
       "      <th></th>\n",
       "      <th>title</th>\n",
       "    </tr>\n",
       "  </thead>\n",
       "  <tbody>\n",
       "    <tr>\n",
       "      <th>0</th>\n",
       "      <td>1,083.10</td>\n",
       "    </tr>\n",
       "  </tbody>\n",
       "</table>\n",
       "</div>"
      ],
      "text/plain": [
       "      title\n",
       "0  1,083.10"
      ]
     },
     "execution_count": 26,
     "metadata": {},
     "output_type": "execute_result"
    }
   ],
   "source": [
    "import requests, bs4, pandas as pd, numpy as np\n",
    " \n",
    "#웹페이지 html 소스 가져오기\n",
    "resp = requests.get(\"http://finance.naver.com/marketindex/\")\n",
    "resp.encoding='utf-8'\n",
    "html = resp.text\n",
    "\n",
    "bs = bs4.BeautifulSoup(html, 'html.parser')\n",
    "\n",
    "# 데이터 추출하기\n",
    "price = bs.select_one(\"div.head_info > span.value\").string\n",
    "print(\"usd/krw= \", price)\n",
    "\n",
    "# 리스트 초기화 및 데이터 담기\n",
    "outList = []\n",
    "outList.append(price)\n",
    "\n",
    "# 리스트 pandas 데이터 프레임으로 변환 및 컬럼 정의\n",
    "outDf = pd.DataFrame(np.array(outList).reshape(1,1))\n",
    "outDf.columns = ['title']\n",
    "# CSV 파일로 저장, encondig 한글깨짐 방지\n",
    "#outDf.to_csv(\"../dataset/webData.csv\", encoding='utf-8-sig',index=False)\n",
    "outDf"
   ]
  },
  {
   "cell_type": "markdown",
   "metadata": {},
   "source": [
    "### 5-1. div에서 id가 id_db_quiz인것만 추출 (id)"
   ]
  },
  {
   "cell_type": "code",
   "execution_count": null,
   "metadata": {},
   "outputs": [],
   "source": [
    "# bs = bs4.BeautifulSoup(html, “html.parser”) //\n",
    "# div에서 id가 id_db_quiz인것만 추출 //\n",
    "# divs = bs.select(“태그명#id명 >  다음 태그”) //\n",
    "# print(divs)"
   ]
  },
  {
   "cell_type": "code",
   "execution_count": 27,
   "metadata": {},
   "outputs": [
    {
     "name": "stdout",
     "output_type": "stream",
     "text": [
      "[<div class=\"class_db_quiz\" id=\"id_db_quiz\">\n",
      "<h1>데이터베이스 퀴즈 </h1>\n",
      "<a href=\"https://docs.google.com/forms/d/e/1FAIpQLSff5TjqUq9u-jRxYZvTdB7k-N0AEjx0_WSIcLZCBfFiEfoRUA/viewform?usp=sf_link\"> 6/12 오라클 Join 퀴즈 </a>\n",
      "<p></p>\n",
      "<a href=\"https://docs.google.com/forms/d/e/1FAIpQLScP3ojzBNFbKbTFq4r58GqqZODYom1d6jrn09rmdqT57uByVA/viewform?usp=sf_link\"> 6/5 오라클 GroupBy 퀴즈 </a>\n",
      "<p></p>\n",
      "<a href=\"https://docs.google.com/forms/d/e/1FAIpQLSfU5Pv_GQOLV-SkrDirOGt4GLDP3sZpy-UPY4zsud2ODPknbA/viewform?usp=sf_link\"> 5/29 오라클 숫자/날짜 및 고급함수 </a>\n",
      "<p></p>\n",
      "<a href=\"https://docs.google.com/forms/d/e/1FAIpQLSdFuYrwaYE6HEzQft21Icj_2yPyQqkcSabuvnaWwO47v99XmA/viewform?usp=sf_link\"> 5/15 오라클 데이터 조회(함수활용)  </a>\n",
      "<p></p>\n",
      "<a href=\"https://docs.google.com/forms/d/e/1FAIpQLSd8MAsXIKIteOM4OFCggUoYeOqC5aGI-2aQFLV8533HkbTz-w/viewform?usp=sf_link\"> 5/8 오라클 원격접속 및 조회 </a>\n",
      "<p></p>\n",
      "<a href=\"https://docs.google.com/forms/d/e/1FAIpQLSeYl0KM70XWhjnTIVLfqX5H5tp2V3jx2bwJMyZrTSeak2HZWw/viewform?usp=sf_link\"> 4/10 무결성 제약조건 </a>\n",
      "</div>]\n"
     ]
    }
   ],
   "source": [
    "import requests, bs4, pandas as pd, numpy as np\n",
    " \n",
    "#웹페이지 html 소스 가져오기\n",
    "resp = requests.get('http://13.209.33.89:3333/quiz')\n",
    "resp.encoding='utf-8'\n",
    "html = resp.text\n",
    "\n",
    "bs = bs4.BeautifulSoup(html, \"html.parser\")\n",
    "# div에서 id가 id_db_quiz인것만 추출\n",
    "divs = bs.select(\"div#id_db_quiz\")\n",
    "print(divs)"
   ]
  },
  {
   "cell_type": "markdown",
   "metadata": {},
   "source": [
    "### 5-2. div에서 id가 id_db_quiz인것만 추출 (class)"
   ]
  },
  {
   "cell_type": "code",
   "execution_count": null,
   "metadata": {},
   "outputs": [],
   "source": [
    "# bs = bs4.BeautifulSoup(html, “html.parser”) //\n",
    "# div에서 id가 id_db_quiz인것만 추출 //\n",
    "# divs = bs.select(“태그명.클래스명 >  다음 태그”) //\n",
    "# print(divs)"
   ]
  },
  {
   "cell_type": "code",
   "execution_count": 37,
   "metadata": {
    "scrolled": true
   },
   "outputs": [
    {
     "name": "stdout",
     "output_type": "stream",
     "text": [
      "[<div class=\"class_db_quiz\" id=\"id_db_quiz\">\n",
      "<h1>데이터베이스 퀴즈 </h1>\n",
      "<a href=\"https://docs.google.com/forms/d/e/1FAIpQLSff5TjqUq9u-jRxYZvTdB7k-N0AEjx0_WSIcLZCBfFiEfoRUA/viewform?usp=sf_link\"> 6/12 오라클 Join 퀴즈 </a>\n",
      "<p></p>\n",
      "<a href=\"https://docs.google.com/forms/d/e/1FAIpQLScP3ojzBNFbKbTFq4r58GqqZODYom1d6jrn09rmdqT57uByVA/viewform?usp=sf_link\"> 6/5 오라클 GroupBy 퀴즈 </a>\n",
      "<p></p>\n",
      "<a href=\"https://docs.google.com/forms/d/e/1FAIpQLSfU5Pv_GQOLV-SkrDirOGt4GLDP3sZpy-UPY4zsud2ODPknbA/viewform?usp=sf_link\"> 5/29 오라클 숫자/날짜 및 고급함수 </a>\n",
      "<p></p>\n",
      "<a href=\"https://docs.google.com/forms/d/e/1FAIpQLSdFuYrwaYE6HEzQft21Icj_2yPyQqkcSabuvnaWwO47v99XmA/viewform?usp=sf_link\"> 5/15 오라클 데이터 조회(함수활용)  </a>\n",
      "<p></p>\n",
      "<a href=\"https://docs.google.com/forms/d/e/1FAIpQLSd8MAsXIKIteOM4OFCggUoYeOqC5aGI-2aQFLV8533HkbTz-w/viewform?usp=sf_link\"> 5/8 오라클 원격접속 및 조회 </a>\n",
      "<p></p>\n",
      "<a href=\"https://docs.google.com/forms/d/e/1FAIpQLSeYl0KM70XWhjnTIVLfqX5H5tp2V3jx2bwJMyZrTSeak2HZWw/viewform?usp=sf_link\"> 4/10 무결성 제약조건 </a>\n",
      "</div>]\n"
     ]
    }
   ],
   "source": [
    "import requests, bs4, pandas as pd, numpy as np\n",
    " \n",
    "#웹페이지 html 소스 가져오기\n",
    "resp = requests.get('http://13.209.33.89:3333/quiz')\n",
    "resp.encoding='utf-8'\n",
    "html = resp.text\n",
    "\n",
    "bs = bs4.BeautifulSoup(html, \"html.parser\")\n",
    "# div에서 id가 id_db_quiz인것만 추출\n",
    "divs = bs.select(\"div.class_db_quiz\")\n",
    "print(divs)"
   ]
  },
  {
   "cell_type": "markdown",
   "metadata": {},
   "source": [
    "### 5-3. div에서 id가 id_db_quiz인것만 1개 와 다수를 추출"
   ]
  },
  {
   "cell_type": "code",
   "execution_count": 39,
   "metadata": {},
   "outputs": [
    {
     "name": "stdout",
     "output_type": "stream",
     "text": [
      " 6/12 오라클 Join 퀴즈 \n",
      " 6/5 오라클 GroupBy 퀴즈 \n",
      " 5/29 오라클 숫자/날짜 및 고급함수 \n",
      " 5/15 오라클 데이터 조회(함수활용)  \n",
      " 5/8 오라클 원격접속 및 조회 \n",
      " 4/10 무결성 제약조건 \n"
     ]
    }
   ],
   "source": [
    "import requests, bs4, pandas as pd, numpy as np\n",
    " \n",
    "#웹페이지 html 소스 가져오기\n",
    "resp = requests.get('http://13.209.33.89:3333/quiz')\n",
    "resp.encoding='utf-8'\n",
    "html = resp.text\n",
    "bs = bs4.BeautifulSoup(html, \"html.parser\")\n",
    "# div에서 class가 class_db_quiz인것만 추출 (1개)\n",
    "seone = bs.select_one(\"div.class_db_quiz > a\").string    \n",
    "# div에서 class가 class_db_quiz인것만 추출 (다수)\n",
    "divs = bs.select(\"div.class_db_quiz > a\")\n",
    "for li in divs:\n",
    "    print(li.string)"
   ]
  },
  {
   "cell_type": "markdown",
   "metadata": {},
   "source": [
    "### 6. 테이블 스크랩 - 컬럼편"
   ]
  },
  {
   "cell_type": "code",
   "execution_count": null,
   "metadata": {},
   "outputs": [],
   "source": [
    "# bs = bs4.BeautifulSoup(html, “html.parser”)\n",
    "# div에서 id가 id_db_quiz인것만 추출\n",
    "# divs = bs.select(“태그명.클래스명 >  다음 태그”)\n",
    "# print(divs)"
   ]
  },
  {
   "cell_type": "code",
   "execution_count": 3,
   "metadata": {},
   "outputs": [
    {
     "data": {
      "text/html": [
       "<div>\n",
       "<style scoped>\n",
       "    .dataframe tbody tr th:only-of-type {\n",
       "        vertical-align: middle;\n",
       "    }\n",
       "\n",
       "    .dataframe tbody tr th {\n",
       "        vertical-align: top;\n",
       "    }\n",
       "\n",
       "    .dataframe thead th {\n",
       "        text-align: right;\n",
       "    }\n",
       "</style>\n",
       "<table border=\"1\" class=\"dataframe\">\n",
       "  <thead>\n",
       "    <tr style=\"text-align: right;\">\n",
       "      <th></th>\n",
       "    </tr>\n",
       "  </thead>\n",
       "  <tbody>\n",
       "  </tbody>\n",
       "</table>\n",
       "</div>"
      ],
      "text/plain": [
       "Empty DataFrame\n",
       "Columns: []\n",
       "Index: []"
      ]
     },
     "execution_count": 3,
     "metadata": {},
     "output_type": "execute_result"
    }
   ],
   "source": [
    "import requests, bs4, pandas as pd, numpy as np\n",
    " \n",
    "#웹페이지 html 소스 가져오기\n",
    "resp = requests.get('http://13.209.33.89:3333/maps')\n",
    "resp.encoding='utf-8'\n",
    "html = resp.text\n",
    "bs = bs4.BeautifulSoup(html, 'html.parser')\n",
    "\n",
    "# html 부분구조 가져오기\n",
    "columns=bs.select('table > tr > th')\n",
    "columns\n",
    "\n",
    "columnlist=[]\n",
    "for column in columns:\n",
    "    columnlist.append(column.text)\n",
    "df=pd.DataFrame(columns=columnlist)\n",
    "\n",
    "df"
   ]
  },
  {
   "cell_type": "code",
   "execution_count": 10,
   "metadata": {},
   "outputs": [
    {
     "data": {
      "text/html": [
       "<div>\n",
       "<style scoped>\n",
       "    .dataframe tbody tr th:only-of-type {\n",
       "        vertical-align: middle;\n",
       "    }\n",
       "\n",
       "    .dataframe tbody tr th {\n",
       "        vertical-align: top;\n",
       "    }\n",
       "\n",
       "    .dataframe thead th {\n",
       "        text-align: right;\n",
       "    }\n",
       "</style>\n",
       "<table border=\"1\" class=\"dataframe\">\n",
       "  <thead>\n",
       "    <tr style=\"text-align: right;\">\n",
       "      <th></th>\n",
       "      <th>geo_name</th>\n",
       "      <th>longitude</th>\n",
       "      <th>latitude</th>\n",
       "      <th>Action</th>\n",
       "    </tr>\n",
       "  </thead>\n",
       "  <tbody>\n",
       "  </tbody>\n",
       "</table>\n",
       "</div>"
      ],
      "text/plain": [
       "Empty DataFrame\n",
       "Columns: [geo_name, longitude, latitude, Action]\n",
       "Index: []"
      ]
     },
     "execution_count": 10,
     "metadata": {},
     "output_type": "execute_result"
    }
   ],
   "source": [
    "import requests, bs4, pandas as pd, numpy as np\n",
    " \n",
    "#웹페이지 html 소스 가져오기\n",
    "resp = requests.get('http://13.209.33.89:3333/maps')\n",
    "resp.encoding='utf-8'\n",
    "html = resp.text\n",
    "bs = bs4.BeautifulSoup(html, 'html.parser')\n",
    "\n",
    "# html 부분구조 가져오기\n",
    "columns=bs.select('table > thead > tr > th')\n",
    "columns\n",
    "\n",
    "columnlist=[]\n",
    "for column in columns:\n",
    "    columnlist.append(column.text)\n",
    "df=pd.DataFrame(columns=columnlist)\n",
    "\n",
    "df"
   ]
  },
  {
   "cell_type": "code",
   "execution_count": null,
   "metadata": {},
   "outputs": [],
   "source": [
    "# bs = bs4.BeautifulSoup(html, “html.parser”) //\n",
    "# 테이블에서 th 헤더부분만 추출 //\n",
    "# contents = bs.select(“테이블 >  tr > td”) //\n",
    "# print(contents)"
   ]
  },
  {
   "cell_type": "code",
   "execution_count": 46,
   "metadata": {},
   "outputs": [
    {
     "data": {
      "text/html": [
       "<div>\n",
       "<style scoped>\n",
       "    .dataframe tbody tr th:only-of-type {\n",
       "        vertical-align: middle;\n",
       "    }\n",
       "\n",
       "    .dataframe tbody tr th {\n",
       "        vertical-align: top;\n",
       "    }\n",
       "\n",
       "    .dataframe thead th {\n",
       "        text-align: right;\n",
       "    }\n",
       "</style>\n",
       "<table border=\"1\" class=\"dataframe\">\n",
       "  <thead>\n",
       "    <tr style=\"text-align: right;\">\n",
       "      <th></th>\n",
       "      <th>0</th>\n",
       "      <th>1</th>\n",
       "      <th>2</th>\n",
       "      <th>3</th>\n",
       "    </tr>\n",
       "  </thead>\n",
       "  <tbody>\n",
       "    <tr>\n",
       "      <th>0</th>\n",
       "      <td>polytech_kangseo2</td>\n",
       "      <td>126.840918</td>\n",
       "      <td>37.549506</td>\n",
       "      <td>\\n\\nEdit                              \\n      ...</td>\n",
       "    </tr>\n",
       "    <tr>\n",
       "      <th>1</th>\n",
       "      <td>coffeekorea_seulleng</td>\n",
       "      <td>127.0478832</td>\n",
       "      <td>37.50567504</td>\n",
       "      <td>\\n\\nEdit                              \\n      ...</td>\n",
       "    </tr>\n",
       "  </tbody>\n",
       "</table>\n",
       "</div>"
      ],
      "text/plain": [
       "                      0            1            2  \\\n",
       "0     polytech_kangseo2   126.840918    37.549506   \n",
       "1  coffeekorea_seulleng  127.0478832  37.50567504   \n",
       "\n",
       "                                                   3  \n",
       "0  \\n\\nEdit                              \\n      ...  \n",
       "1  \\n\\nEdit                              \\n      ...  "
      ]
     },
     "execution_count": 46,
     "metadata": {},
     "output_type": "execute_result"
    }
   ],
   "source": [
    "contents=bs.select('table  > tbody > tr#trbody')\n",
    "dfcontent=[]\n",
    "alldfcontents=[]\n",
    "\n",
    "for content in contents:\n",
    "    tds=content.findAll(\"td\")\n",
    "    for td in tds:\n",
    "        if(td.text==\"None\"):\n",
    "            continue;\n",
    "        dfcontent.append(td.text)\n",
    "    alldfcontents.append(dfcontent)\n",
    "    dfcontent=[]\n",
    "df=pd.DataFrame(data=alldfcontents)\n",
    "df"
   ]
  },
  {
   "cell_type": "code",
   "execution_count": 47,
   "metadata": {},
   "outputs": [
    {
     "data": {
      "text/html": [
       "<div>\n",
       "<style scoped>\n",
       "    .dataframe tbody tr th:only-of-type {\n",
       "        vertical-align: middle;\n",
       "    }\n",
       "\n",
       "    .dataframe tbody tr th {\n",
       "        vertical-align: top;\n",
       "    }\n",
       "\n",
       "    .dataframe thead th {\n",
       "        text-align: right;\n",
       "    }\n",
       "</style>\n",
       "<table border=\"1\" class=\"dataframe\">\n",
       "  <thead>\n",
       "    <tr style=\"text-align: right;\">\n",
       "      <th></th>\n",
       "      <th>aa</th>\n",
       "      <th>bb</th>\n",
       "      <th>cc</th>\n",
       "      <th>dd</th>\n",
       "    </tr>\n",
       "  </thead>\n",
       "  <tbody>\n",
       "    <tr>\n",
       "      <th>0</th>\n",
       "      <td>polytech_kangseo2</td>\n",
       "      <td>126.840918</td>\n",
       "      <td>37.549506</td>\n",
       "      <td>\\n\\nEdit                              \\n      ...</td>\n",
       "    </tr>\n",
       "    <tr>\n",
       "      <th>1</th>\n",
       "      <td>coffeekorea_seulleng</td>\n",
       "      <td>127.0478832</td>\n",
       "      <td>37.50567504</td>\n",
       "      <td>\\n\\nEdit                              \\n      ...</td>\n",
       "    </tr>\n",
       "  </tbody>\n",
       "</table>\n",
       "</div>"
      ],
      "text/plain": [
       "                     aa           bb           cc  \\\n",
       "0     polytech_kangseo2   126.840918    37.549506   \n",
       "1  coffeekorea_seulleng  127.0478832  37.50567504   \n",
       "\n",
       "                                                  dd  \n",
       "0  \\n\\nEdit                              \\n      ...  \n",
       "1  \\n\\nEdit                              \\n      ...  "
      ]
     },
     "execution_count": 47,
     "metadata": {},
     "output_type": "execute_result"
    }
   ],
   "source": [
    "df.columns = ['aa','bb','cc','dd']\n",
    "df"
   ]
  },
  {
   "cell_type": "markdown",
   "metadata": {},
   "source": [
    "### gitlist 목록을 스크랩하여 csv 파일로 추출하세요."
   ]
  },
  {
   "cell_type": "code",
   "execution_count": 12,
   "metadata": {
    "scrolled": true
   },
   "outputs": [
    {
     "name": "stdout",
     "output_type": "stream",
     "text": [
      "[['polytech_kangseo2', '126.840918', '37.549506', '\\n\\nEdit \\xa0                            \\n                    \\n\\n\\n\\n\\n']]\n",
      "[['polytech_kangseo2', '126.840918', '37.549506', '\\n\\nEdit \\xa0                            \\n                    \\n\\n\\n\\n\\n'], ['coffeekorea_seulleng', '127.0478832', '37.50567504', '\\n\\nEdit \\xa0                            \\n                    \\n\\n\\n\\n\\n']]\n"
     ]
    },
    {
     "data": {
      "text/html": [
       "<div>\n",
       "<style scoped>\n",
       "    .dataframe tbody tr th:only-of-type {\n",
       "        vertical-align: middle;\n",
       "    }\n",
       "\n",
       "    .dataframe tbody tr th {\n",
       "        vertical-align: top;\n",
       "    }\n",
       "\n",
       "    .dataframe thead th {\n",
       "        text-align: right;\n",
       "    }\n",
       "</style>\n",
       "<table border=\"1\" class=\"dataframe\">\n",
       "  <thead>\n",
       "    <tr style=\"text-align: right;\">\n",
       "      <th></th>\n",
       "      <th>geo_name</th>\n",
       "      <th>longitude</th>\n",
       "      <th>latitude</th>\n",
       "      <th>Action</th>\n",
       "    </tr>\n",
       "  </thead>\n",
       "  <tbody>\n",
       "    <tr>\n",
       "      <th>0</th>\n",
       "      <td>polytech_kangseo2</td>\n",
       "      <td>126.840918</td>\n",
       "      <td>37.549506</td>\n",
       "      <td>\\n\\nEdit                              \\n      ...</td>\n",
       "    </tr>\n",
       "    <tr>\n",
       "      <th>1</th>\n",
       "      <td>coffeekorea_seulleng</td>\n",
       "      <td>127.0478832</td>\n",
       "      <td>37.50567504</td>\n",
       "      <td>\\n\\nEdit                              \\n      ...</td>\n",
       "    </tr>\n",
       "  </tbody>\n",
       "</table>\n",
       "</div>"
      ],
      "text/plain": [
       "               geo_name    longitude     latitude  \\\n",
       "0     polytech_kangseo2   126.840918    37.549506   \n",
       "1  coffeekorea_seulleng  127.0478832  37.50567504   \n",
       "\n",
       "                                              Action  \n",
       "0  \\n\\nEdit                              \\n      ...  \n",
       "1  \\n\\nEdit                              \\n      ...  "
      ]
     },
     "execution_count": 12,
     "metadata": {},
     "output_type": "execute_result"
    }
   ],
   "source": [
    "import requests, bs4, pandas as pd, numpy as np\n",
    " \n",
    "#웹페이지 html 소스 가져오기\n",
    "resp = requests.get('http://13.209.33.89:3333/maps')\n",
    "resp.encoding='utf-8'\n",
    "html = resp.text\n",
    "bs = bs4.BeautifulSoup(html, 'html.parser')\n",
    "\n",
    "contents=bs.select('table  > tbody > tr#trbody')\n",
    "\n",
    "\n",
    "# print(contents)\n",
    "\n",
    "#tr#trbody 가 2개니까, for문 전체 2번 돌면서 alldfcontents 에 배열로 2개 넣는거다\n",
    "dfcontent=[]\n",
    "alldfcontents=[]\n",
    "for content in contents:\n",
    "    tds=content.findAll(\"td\")  # tr#trbody에서 td tag만 모두 찾는다\n",
    "#     print(tds)\n",
    "    for td in tds:\n",
    "        if(td.text==\"None\"): #text가 없으면 pass\n",
    "            continue;\n",
    "        dfcontent.append(td.text)\n",
    "#     print(dfcontent)\n",
    "    alldfcontents.append(dfcontent)\n",
    "    print(alldfcontents)\n",
    "    dfcontent=[] #for문 2번 돌아야하니까, 첫번째 돌고 난뒤, 다시 넣으려면 비워야 한다\n",
    "\n",
    "# columns을 위에서 만든 columnlist로 구성한고 data는 alldfcontents로!\n",
    "df=pd.DataFrame(columns=columnlist, data=alldfcontents) \n",
    "df"
   ]
  },
  {
   "cell_type": "code",
   "execution_count": 13,
   "metadata": {},
   "outputs": [],
   "source": [
    "### 이렇게 list로 만들어서 서 pd 데이터프레임 만든걸  csv, db로 넣을 수 있다"
   ]
  },
  {
   "cell_type": "code",
   "execution_count": 11,
   "metadata": {},
   "outputs": [
    {
     "name": "stdout",
     "output_type": "stream",
     "text": [
      "[<span class=\"repo js-repo\" title=\"kopoMavenProject\">kopoMavenProject</span>, <span class=\"repo js-repo\" title=\"javascript\">javascript</span>, <span class=\"repo js-repo\" title=\"webProgramming\">webProgramming</span>, <span class=\"repo js-repo\" title=\"oracle_script-master\">oracle_script-master</span>, <span class=\"repo js-repo\" title=\"python\">python</span>, <span class=\"repo js-repo\" title=\"Swift2\">Swift2</span>]\n"
     ]
    },
    {
     "data": {
      "text/html": [
       "<div>\n",
       "<style scoped>\n",
       "    .dataframe tbody tr th:only-of-type {\n",
       "        vertical-align: middle;\n",
       "    }\n",
       "\n",
       "    .dataframe tbody tr th {\n",
       "        vertical-align: top;\n",
       "    }\n",
       "\n",
       "    .dataframe thead th {\n",
       "        text-align: right;\n",
       "    }\n",
       "</style>\n",
       "<table border=\"1\" class=\"dataframe\">\n",
       "  <thead>\n",
       "    <tr style=\"text-align: right;\">\n",
       "      <th></th>\n",
       "      <th>gitList</th>\n",
       "    </tr>\n",
       "  </thead>\n",
       "  <tbody>\n",
       "    <tr>\n",
       "      <th>0</th>\n",
       "      <td>geo_name</td>\n",
       "    </tr>\n",
       "    <tr>\n",
       "      <th>1</th>\n",
       "      <td>longitude</td>\n",
       "    </tr>\n",
       "    <tr>\n",
       "      <th>2</th>\n",
       "      <td>latitude</td>\n",
       "    </tr>\n",
       "    <tr>\n",
       "      <th>3</th>\n",
       "      <td>Action</td>\n",
       "    </tr>\n",
       "  </tbody>\n",
       "</table>\n",
       "</div>"
      ],
      "text/plain": [
       "     gitList\n",
       "0   geo_name\n",
       "1  longitude\n",
       "2   latitude\n",
       "3     Action"
      ]
     },
     "execution_count": 11,
     "metadata": {},
     "output_type": "execute_result"
    }
   ],
   "source": [
    "import requests, bs4, pandas as pd, numpy as np\n",
    " \n",
    "#웹페이지 html 소스 가져오기\n",
    "resp = requests.get('https://github.com/sinletsgo')\n",
    "resp.encoding='utf-8'\n",
    "html = resp.text\n",
    "bs = bs4.BeautifulSoup(html, 'html.parser')\n",
    "\n",
    "# html 부분구조 가져오기\n",
    "gitList = bs.findAll(\"span\",{\"class\":\"repo js-repo\"})\n",
    "\n",
    "\n",
    "print(gitList)\n",
    "\n",
    "\n",
    "gitlistResult=[]\n",
    "for glist in gitList:\n",
    "    gitlistResult.append(glist.text)\n",
    "    \n",
    "\n",
    "df=pd.DataFrame(data=columnlist) \n",
    "\n",
    "df.columns= [\"gitList\"]\n",
    "df"
   ]
  },
  {
   "cell_type": "code",
   "execution_count": null,
   "metadata": {},
   "outputs": [],
   "source": []
  }
 ],
 "metadata": {
  "kernelspec": {
   "display_name": "Python 3",
   "language": "python",
   "name": "python3"
  },
  "language_info": {
   "codemirror_mode": {
    "name": "ipython",
    "version": 3
   },
   "file_extension": ".py",
   "mimetype": "text/x-python",
   "name": "python",
   "nbconvert_exporter": "python",
   "pygments_lexer": "ipython3",
   "version": "3.6.4"
  }
 },
 "nbformat": 4,
 "nbformat_minor": 2
}

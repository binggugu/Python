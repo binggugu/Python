{
 "cells": [
  {
   "cell_type": "markdown",
   "metadata": {},
   "source": [
    "### 1. 수익률"
   ]
  },
  {
   "cell_type": "code",
   "execution_count": 1,
   "metadata": {},
   "outputs": [],
   "source": [
    "# 투자한 자본에 대한 수익(혹은 손실)의 비율"
   ]
  },
  {
   "cell_type": "code",
   "execution_count": 2,
   "metadata": {},
   "outputs": [],
   "source": [
    "# 수익률 = (미래가격 - 초기가격) \n",
    "#                초기가격\n",
    "# 예) 100만원에 사서 150만원이 되면 수익률은 + 50%   → (150-100) / 100"
   ]
  },
  {
   "cell_type": "code",
   "execution_count": null,
   "metadata": {},
   "outputs": [],
   "source": [
    "# 일반 수익률 : 일반 수익률 = (미래가격 – 처음가격) / 초기가격 → 수익률 합과 최종 손실률이 달라진다\n",
    "# 로그 수익률 : ln 미래가격/처음가격 → 최종 수익률과 수익률 합이 일치 (금융분야에서 주로 사용)\n",
    "\n",
    "#  거래일              가격                        일반수익률                  로그수익률\n",
    "#   1일               1,000                             .                           .\n",
    "#   2일               1,500                50% → (1500-1000)/1000       40.54% → ln(1500/1000)\n",
    "#   3일                800               -46.67% → (800-1500)/1500      -62.86% → ln(800/1500)\n",
    "#   4일                600                   -25% → (600-800)/800        -28.76% → ln(600/800)\n",
    "#   5일               1,500                  150% → (1500-600)/600       91.62% → ln(1500/600)\n",
    "# 수익률합계           78%                            78.33%                     40.54%\n",
    "# 최종수익률           50%                             50%                       40.54%"
   ]
  },
  {
   "cell_type": "markdown",
   "metadata": {},
   "source": [
    "### 2. 수익률 계산 및 변동"
   ]
  },
  {
   "cell_type": "code",
   "execution_count": 7,
   "metadata": {},
   "outputs": [
    {
     "data": {
      "text/plain": [
       "Date\n",
       "2018-04-02    486000\n",
       "2018-04-03    485500\n",
       "2018-04-04    503000\n",
       "2018-04-05    502000\n",
       "2018-04-06    519000\n",
       "Name: Close, dtype: int64"
      ]
     },
     "execution_count": 7,
     "metadata": {},
     "output_type": "execute_result"
    },
    {
     "data": {
      "text/plain": [
       "<matplotlib.figure.Figure at 0x57a3d30>"
      ]
     },
     "metadata": {},
     "output_type": "display_data"
    }
   ],
   "source": [
    "import numpy as np\n",
    "import FinanceDataReader as web\n",
    "from datetime import date, timedelta\n",
    "import matplotlib.pyplot as plt\n",
    "import datetime\n",
    "\n",
    "%matplotlib inline\n",
    "plt.figure(figsize=(15,9))\n",
    "today = date.today()\n",
    "startday = date(2018,4,1)\n",
    "endday = date(2018,6,27)\n",
    "SEC = web.DataReader(\"207940\", startday, endday)\n",
    "SEC = SEC[SEC['Volume'] != 0]\n",
    "SEC['Close'].head()"
   ]
  },
  {
   "cell_type": "code",
   "execution_count": 8,
   "metadata": {},
   "outputs": [
    {
     "data": {
      "text/html": [
       "<div>\n",
       "<style scoped>\n",
       "    .dataframe tbody tr th:only-of-type {\n",
       "        vertical-align: middle;\n",
       "    }\n",
       "\n",
       "    .dataframe tbody tr th {\n",
       "        vertical-align: top;\n",
       "    }\n",
       "\n",
       "    .dataframe thead th {\n",
       "        text-align: right;\n",
       "    }\n",
       "</style>\n",
       "<table border=\"1\" class=\"dataframe\">\n",
       "  <thead>\n",
       "    <tr style=\"text-align: right;\">\n",
       "      <th></th>\n",
       "      <th>Close</th>\n",
       "      <th>Open</th>\n",
       "      <th>High</th>\n",
       "      <th>Low</th>\n",
       "      <th>Volume</th>\n",
       "      <th>Change</th>\n",
       "      <th>Rate</th>\n",
       "    </tr>\n",
       "    <tr>\n",
       "      <th>Date</th>\n",
       "      <th></th>\n",
       "      <th></th>\n",
       "      <th></th>\n",
       "      <th></th>\n",
       "      <th></th>\n",
       "      <th></th>\n",
       "      <th></th>\n",
       "    </tr>\n",
       "  </thead>\n",
       "  <tbody>\n",
       "    <tr>\n",
       "      <th>2018-04-02</th>\n",
       "      <td>486000</td>\n",
       "      <td>487000</td>\n",
       "      <td>490000</td>\n",
       "      <td>482500</td>\n",
       "      <td>90650.0</td>\n",
       "      <td>-0.0021</td>\n",
       "      <td>NaN</td>\n",
       "    </tr>\n",
       "    <tr>\n",
       "      <th>2018-04-03</th>\n",
       "      <td>485500</td>\n",
       "      <td>484000</td>\n",
       "      <td>489500</td>\n",
       "      <td>480000</td>\n",
       "      <td>127370.0</td>\n",
       "      <td>-0.0010</td>\n",
       "      <td>-0.001029</td>\n",
       "    </tr>\n",
       "    <tr>\n",
       "      <th>2018-04-04</th>\n",
       "      <td>503000</td>\n",
       "      <td>490000</td>\n",
       "      <td>505000</td>\n",
       "      <td>486000</td>\n",
       "      <td>304040.0</td>\n",
       "      <td>0.0360</td>\n",
       "      <td>0.035411</td>\n",
       "    </tr>\n",
       "    <tr>\n",
       "      <th>2018-04-05</th>\n",
       "      <td>502000</td>\n",
       "      <td>501000</td>\n",
       "      <td>505000</td>\n",
       "      <td>496500</td>\n",
       "      <td>192790.0</td>\n",
       "      <td>-0.0020</td>\n",
       "      <td>-0.001990</td>\n",
       "    </tr>\n",
       "    <tr>\n",
       "      <th>2018-04-06</th>\n",
       "      <td>519000</td>\n",
       "      <td>509000</td>\n",
       "      <td>534000</td>\n",
       "      <td>508000</td>\n",
       "      <td>289480.0</td>\n",
       "      <td>0.0339</td>\n",
       "      <td>0.033304</td>\n",
       "    </tr>\n",
       "  </tbody>\n",
       "</table>\n",
       "</div>"
      ],
      "text/plain": [
       "             Close    Open    High     Low    Volume  Change      Rate\n",
       "Date                                                                  \n",
       "2018-04-02  486000  487000  490000  482500   90650.0 -0.0021       NaN\n",
       "2018-04-03  485500  484000  489500  480000  127370.0 -0.0010 -0.001029\n",
       "2018-04-04  503000  490000  505000  486000  304040.0  0.0360  0.035411\n",
       "2018-04-05  502000  501000  505000  496500  192790.0 -0.0020 -0.001990\n",
       "2018-04-06  519000  509000  534000  508000  289480.0  0.0339  0.033304"
      ]
     },
     "execution_count": 8,
     "metadata": {},
     "output_type": "execute_result"
    }
   ],
   "source": [
    "# 1 씩 shift\n",
    "SEC['Close'].shift(1).head()\n",
    "# 수익률 계산\n",
    "SEC['Rate'] = np.log( SEC['Close'].astype(float) / SEC['Close'].shift(1).astype(float))\n",
    "SEC.head()"
   ]
  },
  {
   "cell_type": "code",
   "execution_count": 10,
   "metadata": {},
   "outputs": [
    {
     "data": {
      "image/png": "[encoded data removed]",
      "text/plain": [
       "<matplotlib.figure.Figure at 0x18828b70>"
      ]
     },
     "metadata": {},
     "output_type": "display_data"
    }
   ],
   "source": [
    "SEC['Rate'].plot(figsize=(16,4))\n",
    "plt.show()"
   ]
  },
  {
   "cell_type": "code",
   "execution_count": null,
   "metadata": {},
   "outputs": [],
   "source": []
  }
 ],
 "metadata": {
  "kernelspec": {
   "display_name": "Python 3",
   "language": "python",
   "name": "python3"
  },
  "language_info": {
   "codemirror_mode": {
    "name": "ipython",
    "version": 3
   },
   "file_extension": ".py",
   "mimetype": "text/x-python",
   "name": "python",
   "nbconvert_exporter": "python",
   "pygments_lexer": "ipython3",
   "version": "3.6.4"
  }
 },
 "nbformat": 4,
 "nbformat_minor": 2
}

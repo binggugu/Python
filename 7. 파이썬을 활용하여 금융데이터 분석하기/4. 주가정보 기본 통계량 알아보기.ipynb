{
 "cells": [
  {
   "cell_type": "markdown",
   "metadata": {},
   "source": [
    "### 1. 기본 통계량"
   ]
  },
  {
   "cell_type": "code",
   "execution_count": 1,
   "metadata": {},
   "outputs": [],
   "source": [
    "# 대표값\n",
    "# 평균(mean): mean() – 주가, 기대수익률 기댓값\n",
    "# 중앙값(median): median()\n",
    "# 최빈값 (mode): mode()\n",
    "    \n",
    "# 산포도\n",
    "# 분산(variance): var() – 리스크, 변동성\n",
    "# 표준편차(standard deviation): std() – 투자위험(risk), 매매신호"
   ]
  },
  {
   "cell_type": "code",
   "execution_count": 1,
   "metadata": {
    "scrolled": true
   },
   "outputs": [
    {
     "data": {
      "text/plain": [
       "Date\n",
       "2018-04-02    486000\n",
       "2018-04-03    485500\n",
       "2018-04-04    503000\n",
       "2018-04-05    502000\n",
       "2018-04-06    519000\n",
       "Name: Close, dtype: int64"
      ]
     },
     "execution_count": 1,
     "metadata": {},
     "output_type": "execute_result"
    },
    {
     "data": {
      "text/plain": [
       "<matplotlib.figure.Figure at 0x57bb5c0>"
      ]
     },
     "metadata": {},
     "output_type": "display_data"
    }
   ],
   "source": [
    "import numpy as np\n",
    "import FinanceDataReader as web\n",
    "from datetime import date, timedelta\n",
    "import matplotlib.pyplot as plt\n",
    "import datetime\n",
    "\n",
    "%matplotlib inline\n",
    "plt.figure(figsize=(15,9))\n",
    "today = date.today()\n",
    "startday = date(2018,4,1)\n",
    "endday = date(2018,6,27)\n",
    "SEC = web.DataReader(\"207940\", startday, endday)\n",
    "SEC = SEC[SEC['Volume'] != 0]\n",
    "SEC['Close'].head()"
   ]
  },
  {
   "cell_type": "code",
   "execution_count": 2,
   "metadata": {},
   "outputs": [
    {
     "data": {
      "text/html": [
       "<div>\n",
       "<style scoped>\n",
       "    .dataframe tbody tr th:only-of-type {\n",
       "        vertical-align: middle;\n",
       "    }\n",
       "\n",
       "    .dataframe tbody tr th {\n",
       "        vertical-align: top;\n",
       "    }\n",
       "\n",
       "    .dataframe thead th {\n",
       "        text-align: right;\n",
       "    }\n",
       "</style>\n",
       "<table border=\"1\" class=\"dataframe\">\n",
       "  <thead>\n",
       "    <tr style=\"text-align: right;\">\n",
       "      <th></th>\n",
       "      <th>Close</th>\n",
       "      <th>Open</th>\n",
       "      <th>High</th>\n",
       "      <th>Low</th>\n",
       "      <th>Volume</th>\n",
       "      <th>Change</th>\n",
       "      <th>Rate</th>\n",
       "    </tr>\n",
       "    <tr>\n",
       "      <th>Date</th>\n",
       "      <th></th>\n",
       "      <th></th>\n",
       "      <th></th>\n",
       "      <th></th>\n",
       "      <th></th>\n",
       "      <th></th>\n",
       "      <th></th>\n",
       "    </tr>\n",
       "  </thead>\n",
       "  <tbody>\n",
       "    <tr>\n",
       "      <th>2018-04-02</th>\n",
       "      <td>486000</td>\n",
       "      <td>487000</td>\n",
       "      <td>490000</td>\n",
       "      <td>482500</td>\n",
       "      <td>90650.0</td>\n",
       "      <td>-0.0021</td>\n",
       "      <td>NaN</td>\n",
       "    </tr>\n",
       "    <tr>\n",
       "      <th>2018-04-03</th>\n",
       "      <td>485500</td>\n",
       "      <td>484000</td>\n",
       "      <td>489500</td>\n",
       "      <td>480000</td>\n",
       "      <td>127370.0</td>\n",
       "      <td>-0.0010</td>\n",
       "      <td>-0.001029</td>\n",
       "    </tr>\n",
       "    <tr>\n",
       "      <th>2018-04-04</th>\n",
       "      <td>503000</td>\n",
       "      <td>490000</td>\n",
       "      <td>505000</td>\n",
       "      <td>486000</td>\n",
       "      <td>304040.0</td>\n",
       "      <td>0.0360</td>\n",
       "      <td>0.035411</td>\n",
       "    </tr>\n",
       "    <tr>\n",
       "      <th>2018-04-05</th>\n",
       "      <td>502000</td>\n",
       "      <td>501000</td>\n",
       "      <td>505000</td>\n",
       "      <td>496500</td>\n",
       "      <td>192790.0</td>\n",
       "      <td>-0.0020</td>\n",
       "      <td>-0.001990</td>\n",
       "    </tr>\n",
       "    <tr>\n",
       "      <th>2018-04-06</th>\n",
       "      <td>519000</td>\n",
       "      <td>509000</td>\n",
       "      <td>534000</td>\n",
       "      <td>508000</td>\n",
       "      <td>289480.0</td>\n",
       "      <td>0.0339</td>\n",
       "      <td>0.033304</td>\n",
       "    </tr>\n",
       "  </tbody>\n",
       "</table>\n",
       "</div>"
      ],
      "text/plain": [
       "             Close    Open    High     Low    Volume  Change      Rate\n",
       "Date                                                                  \n",
       "2018-04-02  486000  487000  490000  482500   90650.0 -0.0021       NaN\n",
       "2018-04-03  485500  484000  489500  480000  127370.0 -0.0010 -0.001029\n",
       "2018-04-04  503000  490000  505000  486000  304040.0  0.0360  0.035411\n",
       "2018-04-05  502000  501000  505000  496500  192790.0 -0.0020 -0.001990\n",
       "2018-04-06  519000  509000  534000  508000  289480.0  0.0339  0.033304"
      ]
     },
     "execution_count": 2,
     "metadata": {},
     "output_type": "execute_result"
    }
   ],
   "source": [
    "# 1 씩 shift\n",
    "SEC['Close'].shift(1).head()\n",
    "# 수익률 계산\n",
    "SEC['Rate'] = np.log( SEC['Close'].astype(float) / SEC['Close'].shift(1).astype(float))\n",
    "SEC.head()"
   ]
  },
  {
   "cell_type": "code",
   "execution_count": 3,
   "metadata": {},
   "outputs": [
    {
     "data": {
      "text/html": [
       "<div>\n",
       "<style scoped>\n",
       "    .dataframe tbody tr th:only-of-type {\n",
       "        vertical-align: middle;\n",
       "    }\n",
       "\n",
       "    .dataframe tbody tr th {\n",
       "        vertical-align: top;\n",
       "    }\n",
       "\n",
       "    .dataframe thead th {\n",
       "        text-align: right;\n",
       "    }\n",
       "</style>\n",
       "<table border=\"1\" class=\"dataframe\">\n",
       "  <thead>\n",
       "    <tr style=\"text-align: right;\">\n",
       "      <th></th>\n",
       "      <th>Close</th>\n",
       "      <th>Open</th>\n",
       "      <th>High</th>\n",
       "      <th>Low</th>\n",
       "      <th>Volume</th>\n",
       "      <th>Change</th>\n",
       "      <th>Rate</th>\n",
       "    </tr>\n",
       "  </thead>\n",
       "  <tbody>\n",
       "    <tr>\n",
       "      <th>count</th>\n",
       "      <td>58.000000</td>\n",
       "      <td>58.000000</td>\n",
       "      <td>58.000000</td>\n",
       "      <td>58.000000</td>\n",
       "      <td>5.800000e+01</td>\n",
       "      <td>58.000000</td>\n",
       "      <td>57.000000</td>\n",
       "    </tr>\n",
       "    <tr>\n",
       "      <th>mean</th>\n",
       "      <td>450293.103448</td>\n",
       "      <td>450750.000000</td>\n",
       "      <td>463353.448276</td>\n",
       "      <td>440405.172414</td>\n",
       "      <td>4.168560e+05</td>\n",
       "      <td>-0.001631</td>\n",
       "      <td>-0.002644</td>\n",
       "    </tr>\n",
       "    <tr>\n",
       "      <th>std</th>\n",
       "      <td>60676.958435</td>\n",
       "      <td>60522.523718</td>\n",
       "      <td>60042.383321</td>\n",
       "      <td>59742.169486</td>\n",
       "      <td>3.928414e+05</td>\n",
       "      <td>0.044595</td>\n",
       "      <td>0.046005</td>\n",
       "    </tr>\n",
       "    <tr>\n",
       "      <th>min</th>\n",
       "      <td>359500.000000</td>\n",
       "      <td>357000.000000</td>\n",
       "      <td>384500.000000</td>\n",
       "      <td>350000.000000</td>\n",
       "      <td>9.065000e+04</td>\n",
       "      <td>-0.172100</td>\n",
       "      <td>-0.188901</td>\n",
       "    </tr>\n",
       "    <tr>\n",
       "      <th>25%</th>\n",
       "      <td>408125.000000</td>\n",
       "      <td>410125.000000</td>\n",
       "      <td>419500.000000</td>\n",
       "      <td>401000.000000</td>\n",
       "      <td>2.017925e+05</td>\n",
       "      <td>-0.024650</td>\n",
       "      <td>-0.025943</td>\n",
       "    </tr>\n",
       "    <tr>\n",
       "      <th>50%</th>\n",
       "      <td>423250.000000</td>\n",
       "      <td>426500.000000</td>\n",
       "      <td>436500.000000</td>\n",
       "      <td>418250.000000</td>\n",
       "      <td>2.918600e+05</td>\n",
       "      <td>-0.001100</td>\n",
       "      <td>-0.001029</td>\n",
       "    </tr>\n",
       "    <tr>\n",
       "      <th>75%</th>\n",
       "      <td>495875.000000</td>\n",
       "      <td>498250.000000</td>\n",
       "      <td>504250.000000</td>\n",
       "      <td>485750.000000</td>\n",
       "      <td>4.654075e+05</td>\n",
       "      <td>0.025450</td>\n",
       "      <td>0.026040</td>\n",
       "    </tr>\n",
       "    <tr>\n",
       "      <th>max</th>\n",
       "      <td>584000.000000</td>\n",
       "      <td>587000.000000</td>\n",
       "      <td>600000.000000</td>\n",
       "      <td>565000.000000</td>\n",
       "      <td>2.320000e+06</td>\n",
       "      <td>0.102400</td>\n",
       "      <td>0.097455</td>\n",
       "    </tr>\n",
       "  </tbody>\n",
       "</table>\n",
       "</div>"
      ],
      "text/plain": [
       "               Close           Open           High            Low  \\\n",
       "count      58.000000      58.000000      58.000000      58.000000   \n",
       "mean   450293.103448  450750.000000  463353.448276  440405.172414   \n",
       "std     60676.958435   60522.523718   60042.383321   59742.169486   \n",
       "min    359500.000000  357000.000000  384500.000000  350000.000000   \n",
       "25%    408125.000000  410125.000000  419500.000000  401000.000000   \n",
       "50%    423250.000000  426500.000000  436500.000000  418250.000000   \n",
       "75%    495875.000000  498250.000000  504250.000000  485750.000000   \n",
       "max    584000.000000  587000.000000  600000.000000  565000.000000   \n",
       "\n",
       "             Volume     Change       Rate  \n",
       "count  5.800000e+01  58.000000  57.000000  \n",
       "mean   4.168560e+05  -0.001631  -0.002644  \n",
       "std    3.928414e+05   0.044595   0.046005  \n",
       "min    9.065000e+04  -0.172100  -0.188901  \n",
       "25%    2.017925e+05  -0.024650  -0.025943  \n",
       "50%    2.918600e+05  -0.001100  -0.001029  \n",
       "75%    4.654075e+05   0.025450   0.026040  \n",
       "max    2.320000e+06   0.102400   0.097455  "
      ]
     },
     "execution_count": 3,
     "metadata": {},
     "output_type": "execute_result"
    }
   ],
   "source": [
    "SEC.describe()"
   ]
  },
  {
   "cell_type": "markdown",
   "metadata": {},
   "source": [
    "### 2. 정규활률 분포함수(수익률의 분포)"
   ]
  },
  {
   "cell_type": "code",
   "execution_count": 6,
   "metadata": {},
   "outputs": [],
   "source": [
    "# 수익률 분포\n",
    "# Normal Probability Distribution Function, Normal PDF\n",
    "# Y  = mlab.normapdf(bins, mu, sigma)"
   ]
  },
  {
   "cell_type": "code",
   "execution_count": 4,
   "metadata": {
    "scrolled": false
   },
   "outputs": [
    {
     "data": {
      "image/png": "[encoded data removed]",
      "text/plain": [
       "<matplotlib.figure.Figure at 0x1bc4bda0>"
      ]
     },
     "metadata": {},
     "output_type": "display_data"
    }
   ],
   "source": [
    "SEC['Rate'].hist(bins=50, color='b', alpha=0.5, figsize = (10,5))\n",
    "plt.show()"
   ]
  },
  {
   "cell_type": "code",
   "execution_count": 5,
   "metadata": {},
   "outputs": [],
   "source": [
    "# 수익률의 확률분포는 정규분포와 유사\n",
    "# 정규분포와 차이 – 첨도가 크고 (더 뾰족하고), 두꺼운 꼬리 (fat tail)\n",
    "# 정규분포와 비교해 크게 오르거나 떨어지는 현상이 더 나타남 (금융위기 등)\n",
    "# 정규분포와 유사하기 때문에 실무적으로 정규분포를 가정함"
   ]
  },
  {
   "cell_type": "code",
   "execution_count": null,
   "metadata": {},
   "outputs": [],
   "source": []
  }
 ],
 "metadata": {
  "kernelspec": {
   "display_name": "Python 3",
   "language": "python",
   "name": "python3"
  },
  "language_info": {
   "codemirror_mode": {
    "name": "ipython",
    "version": 3
   },
   "file_extension": ".py",
   "mimetype": "text/x-python",
   "name": "python",
   "nbconvert_exporter": "python",
   "pygments_lexer": "ipython3",
   "version": "3.6.4"
  }
 },
 "nbformat": 4,
 "nbformat_minor": 2
}

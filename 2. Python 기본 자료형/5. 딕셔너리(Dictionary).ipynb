{
 "cells": [
  {
   "cell_type": "markdown",
   "metadata": {},
   "source": [
    "### 0. 딕셔너리 생성방법"
   ]
  },
  {
   "cell_type": "code",
   "execution_count": 2,
   "metadata": {},
   "outputs": [
    {
     "data": {
      "text/plain": [
       "{'address': 'suwon', 'name': 'sec', 'value': 300000}"
      ]
     },
     "execution_count": 2,
     "metadata": {},
     "output_type": "execute_result"
    }
   ],
   "source": [
    "d= dict(name=\"sec\", value=300000, address=\"suwon\")\n",
    "d"
   ]
  },
  {
   "cell_type": "code",
   "execution_count": 12,
   "metadata": {},
   "outputs": [
    {
     "name": "stdout",
     "output_type": "stream",
     "text": [
      "name sec\n",
      "value 300000\n",
      "address suwon\n"
     ]
    }
   ],
   "source": [
    "for k,v in d.items() :\n",
    "    print(k,v)"
   ]
  },
  {
   "cell_type": "code",
   "execution_count": 3,
   "metadata": {},
   "outputs": [
    {
     "data": {
      "text/plain": [
       "dict_keys(['name', 'value', 'address'])"
      ]
     },
     "execution_count": 3,
     "metadata": {},
     "output_type": "execute_result"
    }
   ],
   "source": [
    "d.keys()"
   ]
  },
  {
   "cell_type": "code",
   "execution_count": 4,
   "metadata": {
    "scrolled": true
   },
   "outputs": [
    {
     "data": {
      "text/plain": [
       "dict_values(['sec', 300000, 'suwon'])"
      ]
     },
     "execution_count": 4,
     "metadata": {},
     "output_type": "execute_result"
    }
   ],
   "source": [
    "d.values()"
   ]
  },
  {
   "cell_type": "code",
   "execution_count": 5,
   "metadata": {},
   "outputs": [
    {
     "data": {
      "text/plain": [
       "dict_items([('name', 'sec'), ('value', 300000), ('address', 'suwon')])"
      ]
     },
     "execution_count": 5,
     "metadata": {},
     "output_type": "execute_result"
    }
   ],
   "source": [
    "d.items()"
   ]
  },
  {
   "cell_type": "markdown",
   "metadata": {},
   "source": [
    "### 1. 딕셔너리 관련 함수"
   ]
  },
  {
   "cell_type": "code",
   "execution_count": 7,
   "metadata": {},
   "outputs": [
    {
     "name": "stdout",
     "output_type": "stream",
     "text": [
      "{'name': 'sec', 'id': '300000', 'address': 'suwon'}\n",
      "sec\n",
      "{'name': 'sec2', 'id': '300000', 'address': 'suwon', 'stock': 'yes'}\n",
      "yes\n",
      "{'name': 'sec2', 'address': 'suwon', 'stock': 'yes'}\n"
     ]
    }
   ],
   "source": [
    "dic = {\"name\":\"sec\",\"id\":\"300000\",\"address\":\"suwon\"}\n",
    "print(dic)\n",
    "print(dic['name'])\n",
    "\n",
    "# dictional key value 추가/변경\n",
    "dic[\"name\"] = \"sec2\"\n",
    "dic[\"stock\"] = \"yes\"\n",
    "print(dic)\n",
    "print(dic[\"stock\"])\n",
    "\n",
    "# diction 요소 삭제하기\n",
    "del dic[\"id\"]\n",
    "print(dic)"
   ]
  },
  {
   "cell_type": "markdown",
   "metadata": {},
   "source": [
    "### dic = {\"name\":\"sec\",\"id\":\"300000\",\"address\":\"suwon\"}에서 id를 삭제하여 출력하세요\n",
    "### {'name': 'sec', 'address': 'suwon’}\n"
   ]
  },
  {
   "cell_type": "code",
   "execution_count": 9,
   "metadata": {},
   "outputs": [
    {
     "name": "stdout",
     "output_type": "stream",
     "text": [
      "{'name': 'sec', 'address': 'suwon'}\n"
     ]
    }
   ],
   "source": [
    "dic = {\"name\":\"sec\",\"id\":\"300000\",\"address\":\"suwon\"}\n",
    "del dic[\"id\"]\n",
    "print(dic)"
   ]
  },
  {
   "cell_type": "code",
   "execution_count": null,
   "metadata": {},
   "outputs": [],
   "source": []
  }
 ],
 "metadata": {
  "kernelspec": {
   "display_name": "Python 3",
   "language": "python",
   "name": "python3"
  },
  "language_info": {
   "codemirror_mode": {
    "name": "ipython",
    "version": 3
   },
   "file_extension": ".py",
   "mimetype": "text/x-python",
   "name": "python",
   "nbconvert_exporter": "python",
   "pygments_lexer": "ipython3",
   "version": "3.6.4"
  }
 },
 "nbformat": 4,
 "nbformat_minor": 2
}

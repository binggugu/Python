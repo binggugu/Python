{
 "cells": [
  {
   "cell_type": "markdown",
   "metadata": {},
   "source": [
    "### def"
   ]
  },
  {
   "cell_type": "code",
   "execution_count": 8,
   "metadata": {},
   "outputs": [
    {
     "name": "stdout",
     "output_type": "stream",
     "text": [
      "5\n",
      "20\n"
     ]
    }
   ],
   "source": [
    "# def 함수명(입력변수#1, 입력변수#2,…):\n",
    "#       return 결과값\n",
    "\n",
    "\n",
    "# This function adds two numbers \n",
    "def add(x=10, y=10):\n",
    "    return x + y\n",
    "\n",
    "a = 3\n",
    "b = 2\n",
    "answer = add(a,b)\n",
    "print(answer)\n",
    "answerDefault = add()\n",
    "print(answerDefault)"
   ]
  },
  {
   "cell_type": "markdown",
   "metadata": {},
   "source": [
    "### lambda"
   ]
  },
  {
   "cell_type": "code",
   "execution_count": 7,
   "metadata": {},
   "outputs": [
    {
     "data": {
      "text/plain": [
       "6"
      ]
     },
     "execution_count": 7,
     "metadata": {},
     "output_type": "execute_result"
    }
   ],
   "source": [
    "# 이름이 없는 한줄의 간단한 함수\n",
    "# 프로그램 가독성 향상   * help(print) 프린트 함수 설명\n",
    "\n",
    "# This function\n",
    "(lambda x,y: x*y)(3,2)"
   ]
  }
 ],
 "metadata": {
  "kernelspec": {
   "display_name": "Python 3",
   "language": "python",
   "name": "python3"
  },
  "language_info": {
   "codemirror_mode": {
    "name": "ipython",
    "version": 3
   },
   "file_extension": ".py",
   "mimetype": "text/x-python",
   "name": "python",
   "nbconvert_exporter": "python",
   "pygments_lexer": "ipython3",
   "version": "3.6.4"
  }
 },
 "nbformat": 4,
 "nbformat_minor": 2
}

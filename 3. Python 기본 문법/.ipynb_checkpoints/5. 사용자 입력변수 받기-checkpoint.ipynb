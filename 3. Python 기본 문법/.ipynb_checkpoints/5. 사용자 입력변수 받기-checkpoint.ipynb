{
 "cells": [
  {
   "cell_type": "code",
   "execution_count": 3,
   "metadata": {},
   "outputs": [
    {
     "name": "stdout",
     "output_type": "stream",
     "text": [
      "성함을 입력하세요.kimjisung\n",
      "kimjisung\n"
     ]
    }
   ],
   "source": [
    "name = input(\"성함을 입력하세요.\")\n",
    "print(name)"
   ]
  },
  {
   "cell_type": "markdown",
   "metadata": {},
   "source": [
    "### 사칙연산(+,-,*,/)을 할수 있는 함수를 생성한 후 사용자의 변수를 2개 inputX, inputY를 입력받아 \n",
    "### print문을 활용하여 더하기 예제를 출력하세요 "
   ]
  },
  {
   "cell_type": "code",
   "execution_count": 6,
   "metadata": {},
   "outputs": [
    {
     "name": "stdout",
     "output_type": "stream",
     "text": [
      "값을 입력하세요:5\n",
      "값을 입력하세요:3\n"
     ]
    }
   ],
   "source": [
    "inputX = int(input(\"값을 입력하세요:\"))\n",
    "inputY = int(input(\"값을 입력하세요:\"))"
   ]
  },
  {
   "cell_type": "code",
   "execution_count": 7,
   "metadata": {},
   "outputs": [],
   "source": [
    "def add(x, y):\n",
    "    return x + y\n",
    "def minus(x, y):\n",
    "    return x - y\n",
    "def multiply(x, y):\n",
    "    return x * y\n",
    "def division(x, y):\n",
    "    return x / y"
   ]
  },
  {
   "cell_type": "code",
   "execution_count": 8,
   "metadata": {},
   "outputs": [
    {
     "name": "stdout",
     "output_type": "stream",
     "text": [
      "8\n",
      "2\n",
      "15\n",
      "1.6666666666666667\n"
     ]
    }
   ],
   "source": [
    "print(add(inputX, inputY))\n",
    "print(minus(inputX, inputY))\n",
    "print(multiply(inputX, inputY))\n",
    "print(division(inputX, inputY))"
   ]
  }
 ],
 "metadata": {
  "kernelspec": {
   "display_name": "Python 3",
   "language": "python",
   "name": "python3"
  },
  "language_info": {
   "codemirror_mode": {
    "name": "ipython",
    "version": 3
   },
   "file_extension": ".py",
   "mimetype": "text/x-python",
   "name": "python",
   "nbconvert_exporter": "python",
   "pygments_lexer": "ipython3",
   "version": "3.6.4"
  }
 },
 "nbformat": 4,
 "nbformat_minor": 2
}

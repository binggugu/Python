{
 "cells": [
  {
   "cell_type": "markdown",
   "metadata": {},
   "source": [
    "### 1. while & 1중 for문"
   ]
  },
  {
   "cell_type": "code",
   "execution_count": 14,
   "metadata": {},
   "outputs": [
    {
     "name": "stdout",
     "output_type": "stream",
     "text": [
      "1\n",
      "2\n",
      "3\n",
      "4\n",
      "5\n",
      "6\n",
      "7\n",
      "8\n",
      "9\n",
      "10\n",
      "1번문제 시작!\n",
      "1\n",
      "2\n",
      "3\n",
      "4\n",
      "5\n",
      "6\n",
      "7\n",
      "8\n",
      "9\n",
      "10\n",
      "2번문제 시작!\n",
      "1\n",
      "3\n",
      "5\n",
      "7\n",
      "9\n",
      "3번문제 시작!\n"
     ]
    },
    {
     "data": {
      "text/plain": [
       "[1, 3, 5, 7, 9, 11, 13, 15, 17, 19]"
      ]
     },
     "execution_count": 14,
     "metadata": {},
     "output_type": "execute_result"
    }
   ],
   "source": [
    "#반복문 예제 #1\n",
    "i = 1\n",
    "while i <= 10:\n",
    "    print(i)\n",
    "    i=i+1;\n",
    "print(\"1번문제 시작!\")\n",
    "\n",
    "#반복문 예제 #2\n",
    "for i in range(1, 11):\n",
    "    print(i)\n",
    "print(\"2번문제 시작!\")\n",
    "\n",
    "#반복문 예제 #3\n",
    "for i in range(1, 11, 2): # 2씩 증가 시키고 싶을때, 끝에 2를 추가\n",
    "    print(i)\n",
    "print(\"3번문제 시작!\")\n",
    "\n",
    "# list(range()) 함수를 적용하여 1에서 20까지 2단계씩 증가하는 리스트를 생성하세요\n",
    "list(range(1,20,2))"
   ]
  },
  {
   "cell_type": "markdown",
   "metadata": {},
   "source": [
    "### 2. 2중 for 문"
   ]
  },
  {
   "cell_type": "code",
   "execution_count": 15,
   "metadata": {},
   "outputs": [
    {
     "name": "stdout",
     "output_type": "stream",
     "text": [
      "1단 시작\n",
      "1 * 1 =  1 \n",
      "1 * 2 =  2 \n",
      "1 * 3 =  3 \n",
      "1 * 4 =  4 \n",
      "1 * 5 =  5 \n",
      "1 * 6 =  6 \n",
      "1 * 7 =  7 \n",
      "1 * 8 =  8 \n",
      "1 * 9 =  9 \n",
      "2단 시작\n",
      "2 * 1 =  2 \n",
      "2 * 2 =  4 \n",
      "2 * 3 =  6 \n",
      "2 * 4 =  8 \n",
      "2 * 5 =  10 \n",
      "2 * 6 =  12 \n",
      "2 * 7 =  14 \n",
      "2 * 8 =  16 \n",
      "2 * 9 =  18 \n"
     ]
    }
   ],
   "source": [
    "for n in [1,2]:\n",
    "    print(\"{0}단 시작\".format(n))\n",
    "    for i in [1,2,3,4,5,6,7,8,9]:\n",
    "        print(\"{0} * {1} =  {2} \".format(n, i, n*i)) # 0 ,1 , 2는 format의 순서"
   ]
  },
  {
   "cell_type": "code",
   "execution_count": 16,
   "metadata": {
    "scrolled": true
   },
   "outputs": [
    {
     "name": "stdout",
     "output_type": "stream",
     "text": [
      "1단 시작\n",
      "2단 시작\n"
     ]
    }
   ],
   "source": [
    "for n in [1,2]:\n",
    "    print(\"{0}단 시작\".format(n))"
   ]
  },
  {
   "cell_type": "code",
   "execution_count": 17,
   "metadata": {},
   "outputs": [
    {
     "name": "stdout",
     "output_type": "stream",
     "text": [
      "2 * 1 =  2 \n",
      "2 * 2 =  4 \n",
      "2 * 3 =  6 \n",
      "2 * 4 =  8 \n",
      "2 * 5 =  10 \n",
      "2 * 6 =  12 \n",
      "2 * 7 =  14 \n",
      "2 * 8 =  16 \n",
      "2 * 9 =  18 \n"
     ]
    }
   ],
   "source": [
    "for i in [1,2,3,4,5,6,7,8,9]:\n",
    "        print(\"{0} * {1} =  {2} \".format(n, i, n*i))"
   ]
  },
  {
   "cell_type": "markdown",
   "metadata": {},
   "source": [
    "### 3. 2중 for 문 + break"
   ]
  },
  {
   "cell_type": "code",
   "execution_count": 18,
   "metadata": {},
   "outputs": [
    {
     "name": "stdout",
     "output_type": "stream",
     "text": [
      "1단 시작\n",
      "1 * 1 =  1 \n",
      "1 * 2 =  2 \n",
      "1 * 3 =  3 \n",
      "1 * 4 =  4 \n",
      "1 * 5 =  5 \n",
      "2단 시작\n",
      "2 * 1 =  2 \n",
      "2 * 2 =  4 \n",
      "2 * 3 =  6 \n",
      "2 * 4 =  8 \n",
      "2 * 5 =  10 \n"
     ]
    }
   ],
   "source": [
    "for n in [1,2]:\n",
    "    print(\"{0}단 시작\".format(n))\n",
    "    for i in [1,2,3,4,5,6,7,8,9]:\n",
    "        if i > 5: # 식이 성립이 될때에 다음으로 넘어가 break.\n",
    "            break # break를 만나면 멈춤\n",
    "        print(\"{0} * {1} =  {2} \".format(n, i, n*i))"
   ]
  },
  {
   "cell_type": "markdown",
   "metadata": {},
   "source": [
    "### 4. 2중 for문 + continue"
   ]
  },
  {
   "cell_type": "code",
   "execution_count": 19,
   "metadata": {},
   "outputs": [
    {
     "name": "stdout",
     "output_type": "stream",
     "text": [
      "1단 시작\n",
      "1 * 1 =  1 \n",
      "1 * 2 =  2 \n",
      "1 * 3 =  3 \n",
      "1 * 4 =  4 \n",
      "1 * 5 =  5 \n",
      "1 * 6 =  6 \n",
      "1 * 7 =  7 \n",
      "1 * 8 =  8 \n",
      "1 * 9 =  9 \n"
     ]
    }
   ],
   "source": [
    "for n in [1,2]:\n",
    "    if n%2 == 0:\n",
    "            continue ## continue 이후 생성되지 않음.\n",
    "    print(\"{0}단 시작\".format(n))\n",
    "    for i in [1,2,3,4,5,6,7,8,9]:\n",
    "        print(\"{0} * {1} =  {2} \".format(n, i, n*i))"
   ]
  },
  {
   "cell_type": "code",
   "execution_count": 20,
   "metadata": {},
   "outputs": [
    {
     "name": "stdout",
     "output_type": "stream",
     "text": [
      "<built-in method format of str object at 0x00000000059BE7E8>\n",
      "1 * 1 =  1 \n",
      "1 * 2 =  2 \n",
      "1 * 3 =  3 \n",
      "1 * 4 =  4 \n",
      "1 * 5 =  5 \n",
      "1 * 6 =  6 \n",
      "1 * 7 =  7 \n",
      "1 * 8 =  8 \n",
      "1 * 9 =  9 \n",
      "<built-in method format of str object at 0x00000000059BE7E8>\n",
      "3 * 1 =  3 \n",
      "3 * 2 =  6 \n",
      "3 * 3 =  9 \n",
      "3 * 4 =  12 \n",
      "3 * 5 =  15 \n",
      "3 * 6 =  18 \n",
      "3 * 7 =  21 \n",
      "3 * 8 =  24 \n",
      "3 * 9 =  27 \n",
      "<built-in method format of str object at 0x00000000059BE7E8>\n",
      "5 * 1 =  5 \n",
      "5 * 2 =  10 \n",
      "5 * 3 =  15 \n",
      "5 * 4 =  20 \n",
      "5 * 5 =  25 \n",
      "5 * 6 =  30 \n",
      "5 * 7 =  35 \n",
      "5 * 8 =  40 \n",
      "5 * 9 =  45 \n",
      "<built-in method format of str object at 0x00000000059BE7E8>\n",
      "7 * 1 =  7 \n",
      "7 * 2 =  14 \n",
      "7 * 3 =  21 \n",
      "7 * 4 =  28 \n",
      "7 * 5 =  35 \n",
      "7 * 6 =  42 \n",
      "7 * 7 =  49 \n",
      "7 * 8 =  56 \n",
      "7 * 9 =  63 \n"
     ]
    }
   ],
   "source": [
    "for n in [1,2,3,4,5,6,7]:\n",
    "    if (n%2==0):\n",
    "        continue\n",
    "    print(\"{}단 시작\".format)\n",
    "    for i in [1,2,3,4,5,6,7,8,9]:\n",
    "        print(\"{0} * {1} =  {2} \".format(n, i, n*i))"
   ]
  },
  {
   "cell_type": "markdown",
   "metadata": {},
   "source": [
    "### Dictionary {‘A01’ : 한국, ‘A02’ : 미국, ‘A03’ : 인도} 생성 후 key를 for루프를 활용하여 출력하세요 "
   ]
  },
  {
   "cell_type": "code",
   "execution_count": 9,
   "metadata": {},
   "outputs": [
    {
     "name": "stdout",
     "output_type": "stream",
     "text": [
      "A01\n",
      "A02\n",
      "A03\n",
      "한국\n",
      "미국\n",
      "인도\n",
      "A01 한국\n",
      "A02 미국\n",
      "A03 인도\n",
      "('A01', '한국')\n",
      "('A02', '미국')\n",
      "('A03', '인도')\n"
     ]
    }
   ],
   "source": [
    "Dictionary = {'A01':'한국', 'A02':'미국', 'A03':'인도'}\n",
    "\n",
    "# 키와 값 가져오기\n",
    "\n",
    "# 키만 가져오기\n",
    "for key in Dictionary.keys(): # key는 A01, A02, A03\n",
    "    print(key)\n",
    "\n",
    "# 값만 가져오기\n",
    "for value in Dictionary.values(): # value는 한국, 미국, 인도\n",
    "    print(value)\n",
    "    \n",
    "for key, value in Dictionary.items(): # items는 key와 value 전체\n",
    "    print(key, value)    \n",
    "\n",
    "for key in Dictionary.items():\n",
    "    print(key)    "
   ]
  },
  {
   "cell_type": "code",
   "execution_count": 10,
   "metadata": {},
   "outputs": [
    {
     "name": "stdout",
     "output_type": "stream",
     "text": [
      "한국\n",
      "미국\n",
      "인도\n"
     ]
    }
   ],
   "source": [
    "for key in Dictionary.values():\n",
    "    print(key)"
   ]
  },
  {
   "cell_type": "markdown",
   "metadata": {},
   "source": [
    "### nations = [\"A01\",\"미국\",\"A02\",\"한국\",\"A03\",\"프랑스\"] 에서 while 문을 활용하여 리스트에서 국가명만 프린트하세요"
   ]
  },
  {
   "cell_type": "code",
   "execution_count": 17,
   "metadata": {},
   "outputs": [
    {
     "name": "stdout",
     "output_type": "stream",
     "text": [
      "미국\n",
      "한국\n",
      "프랑스\n"
     ]
    }
   ],
   "source": [
    "nations = [\"A01\",\"미국\",\"A02\",\"한국\",\"A03\",\"프랑스\"]\n",
    "\n",
    "i=1\n",
    "\n",
    "while i <= len(nations):\n",
    "    print(nations[i])\n",
    "    i=i+2"
   ]
  },
  {
   "cell_type": "code",
   "execution_count": 18,
   "metadata": {},
   "outputs": [
    {
     "name": "stdout",
     "output_type": "stream",
     "text": [
      "미국\n",
      "한국\n",
      "프랑스\n"
     ]
    }
   ],
   "source": [
    "nations = [\"A01\",\"미국\",\"A02\",\"한국\",\"A03\",\"프랑스\"]\n",
    "\n",
    "i=0\n",
    "\n",
    "while i < len(nations):\n",
    "    if(i%2!=0):\n",
    "        print(nations[i])\n",
    "    i=i+1"
   ]
  },
  {
   "cell_type": "markdown",
   "metadata": {},
   "source": [
    "### nations = [\"A01\",\"미국\",\"A02\",\"한국\",\"A03\",\"프랑스\"] 에서 for 문을 활용하여 리스트에서 국가코드만 프린트하세요"
   ]
  },
  {
   "cell_type": "code",
   "execution_count": 20,
   "metadata": {},
   "outputs": [
    {
     "name": "stdout",
     "output_type": "stream",
     "text": [
      "A01\n",
      "A02\n",
      "A03\n"
     ]
    }
   ],
   "source": [
    "nations = [\"A01\",\"미국\",\"A02\",\"한국\",\"A03\",\"프랑스\"]\n",
    "\n",
    "for i in range (0, len(nations), 2):\n",
    "    print(nations[i])"
   ]
  },
  {
   "cell_type": "code",
   "execution_count": 23,
   "metadata": {},
   "outputs": [
    {
     "name": "stdout",
     "output_type": "stream",
     "text": [
      "미국\n",
      "한국\n",
      "프랑스\n"
     ]
    }
   ],
   "source": [
    "nations = [\"A01\",\"미국\",\"A02\",\"한국\",\"A03\",\"프랑스\"]\n",
    "\n",
    "for i in nations:\n",
    "    if(nations.index(i)%2!=0):\n",
    "        print(i)"
   ]
  },
  {
   "cell_type": "code",
   "execution_count": null,
   "metadata": {},
   "outputs": [],
   "source": []
  }
 ],
 "metadata": {
  "kernelspec": {
   "display_name": "Python 3",
   "language": "python",
   "name": "python3"
  },
  "language_info": {
   "codemirror_mode": {
    "name": "ipython",
    "version": 3
   },
   "file_extension": ".py",
   "mimetype": "text/x-python",
   "name": "python",
   "nbconvert_exporter": "python",
   "pygments_lexer": "ipython3",
   "version": "3.6.4"
  }
 },
 "nbformat": 4,
 "nbformat_minor": 2
}

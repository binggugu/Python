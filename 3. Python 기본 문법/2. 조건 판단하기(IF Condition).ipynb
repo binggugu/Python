{
 "cells": [
  {
   "cell_type": "code",
   "execution_count": 2,
   "metadata": {},
   "outputs": [
    {
     "name": "stdout",
     "output_type": "stream",
     "text": [
      "True\n"
     ]
    }
   ],
   "source": [
    "# 변수에 특정 값 할당\n",
    "stockname = 'SEA'\n",
    "\n",
    "# 조건 식 수행 일치 시 실행\n",
    "if stockname == \"SEC\": # if문을 쓰고 들여쓰기를 해야한다.\n",
    "    print(\"Union\") # jupyter은 알아서 들여쓰기를 해준다.\n",
    "elif stockname == \"SEA\":\n",
    "    print(\"True\")\n",
    "# 조건이 일치하지 않는 경우 else 조건 실행\n",
    "else:\n",
    "    print(\"False\")"
   ]
  },
  {
   "cell_type": "markdown",
   "metadata": {},
   "source": [
    "### SCORE  변수를 80으로 선언 후 90점이상 A, 80~90점 B, 이외 C 점수로 판단하는 조건문을 구현하세요"
   ]
  },
  {
   "cell_type": "code",
   "execution_count": 8,
   "metadata": {},
   "outputs": [
    {
     "name": "stdout",
     "output_type": "stream",
     "text": [
      "A\n"
     ]
    }
   ],
   "source": [
    "score = 90\n",
    "\n",
    "if score >= 90:\n",
    "    print(\"grade A\")\n",
    "elif 80 <= score < 90:\n",
    "    print(\"grade B\")\n",
    "else:\n",
    "    print(\"grade C\")"
   ]
  }
 ],
 "metadata": {
  "kernelspec": {
   "display_name": "Python 3",
   "language": "python",
   "name": "python3"
  },
  "language_info": {
   "codemirror_mode": {
    "name": "ipython",
    "version": 3
   },
   "file_extension": ".py",
   "mimetype": "text/x-python",
   "name": "python",
   "nbconvert_exporter": "python",
   "pygments_lexer": "ipython3",
   "version": "3.6.4"
  }
 },
 "nbformat": 4,
 "nbformat_minor": 2
}
